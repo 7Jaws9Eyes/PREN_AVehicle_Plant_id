{
  "nbformat": 4,
  "nbformat_minor": 0,
  "metadata": {
    "colab": {
      "name": "yolo_conversion_colab.ipynb",
      "provenance": [],
      "collapsed_sections": [],
      "include_colab_link": true
    },
    "kernelspec": {
      "name": "python3",
      "display_name": "Python 3"
    },
    "language_info": {
      "name": "python"
    },
    "accelerator": "GPU"
  },
  "cells": [
    {
      "cell_type": "markdown",
      "metadata": {
        "id": "view-in-github",
        "colab_type": "text"
      },
      "source": [
        "<a href=\"https://colab.research.google.com/github/MadMeister/PREN_AVehicle_Plant_id/blob/main/yolo_conversion_colab.ipynb\" target=\"_parent\"><img src=\"https://colab.research.google.com/assets/colab-badge.svg\" alt=\"Open In Colab\"/></a>"
      ]
    },
    {
      "cell_type": "markdown",
      "metadata": {
        "id": "FeMHi27Y16sl"
      },
      "source": [
        "# Convert Yolov3 to Blob\n"
      ]
    },
    {
      "cell_type": "markdown",
      "metadata": {
        "id": "LZ-7ZxOm2syv"
      },
      "source": [
        "## 1. Setting up Darknet\n",
        "\n",
        "Note that we are cloning the darknet from [AlexeyAB/darknet](https://github.com/AlexeyAB/darknet.git) which is a fork from official [pjreddie/darknet](https://github.com/pjreddie/darknet) repository. It contains the code for multiple YoloV3 and YoloV4 modifications and is actively maintained."
      ]
    },
    {
      "cell_type": "code",
      "metadata": {
        "id": "HTYE7skd1ku-"
      },
      "source": [
        "%%capture\n",
        "!git clone https://github.com/AlexeyAB/darknet.git"
      ],
      "execution_count": null,
      "outputs": []
    },
    {
      "cell_type": "code",
      "metadata": {
        "id": "TfsQNbdMCtjd"
      },
      "source": [
        "%%capture\n",
        "!git clone https://github.com/yushulx/opencv-yolo-qr-detection.git"
      ],
      "execution_count": null,
      "outputs": []
    },
    {
      "cell_type": "code",
      "metadata": {
        "id": "csXioHxD21IX"
      },
      "source": [
        "%cd darknet\n",
        "!sed -i 's/OPENCV=0/OPENCV=1/' Makefile\n",
        "!sed -i 's/GPU=0/GPU=1/' Makefile\n",
        "!sed -i 's/CUDNN=0/CUDNN=1/' Makefile\n",
        "!sed -i 's/CUDNN_HALF=0/CUDNN_HALF=1/' Makefile\n",
        "!make\n",
        "!chmod +x ./darknet"
      ],
      "execution_count": null,
      "outputs": []
    },
    {
      "cell_type": "code",
      "metadata": {
        "colab": {
          "base_uri": "https://localhost:8080/"
        },
        "id": "28AIN5jsDSB5",
        "outputId": "626fd25c-7dc5-4360-aa79-5e889ee5de65"
      },
      "source": [
        "%cd opencv-yolo-qr-detection\n",
        "%ls\n"
      ],
      "execution_count": null,
      "outputs": [
        {
          "output_type": "stream",
          "name": "stdout",
          "text": [
            "[Errno 2] No such file or directory: 'opencv-yolo-qr-detection'\n",
            "/content/darknet\n",
            "\u001b[0m\u001b[01;34m3rdparty\u001b[0m/               darknet.py              \u001b[01;32mnet_cam_v4.sh\u001b[0m*\n",
            "\u001b[01;34mbackup\u001b[0m/                 darknet_video.py        \u001b[01;34mobj\u001b[0m/\n",
            "\u001b[01;34mbuild\u001b[0m/                  \u001b[01;34mdata\u001b[0m/                   README.md\n",
            "\u001b[01;32mbuild.ps1\u001b[0m*              \u001b[01;32mimage_yolov3.sh\u001b[0m*        \u001b[01;34mresults\u001b[0m/\n",
            "\u001b[01;34mcfg\u001b[0m/                    \u001b[01;32mimage_yolov4.sh\u001b[0m*        \u001b[01;34mscripts\u001b[0m/\n",
            "\u001b[01;34mcmake\u001b[0m/                  \u001b[01;34minclude\u001b[0m/                \u001b[01;34msrc\u001b[0m/\n",
            "CMakeLists.txt          \u001b[01;32mjson_mjpeg_streams.sh\u001b[0m*  vcpkg.json\n",
            "\u001b[01;32mdarknet\u001b[0m*                LICENSE                 \u001b[01;32mvideo_yolov3.sh\u001b[0m*\n",
            "DarknetConfig.cmake.in  Makefile                \u001b[01;32mvideo_yolov4.sh\u001b[0m*\n",
            "darknet_images.py       \u001b[01;32mnet_cam_v3.sh\u001b[0m*\n"
          ]
        }
      ]
    },
    {
      "cell_type": "markdown",
      "metadata": {
        "id": "SiRp_7ct7b2k"
      },
      "source": [
        "### Choosing Tensorflow version"
      ]
    },
    {
      "cell_type": "code",
      "metadata": {
        "colab": {
          "base_uri": "https://localhost:8080/",
          "height": 36
        },
        "id": "OmYdc9UV34Dj",
        "outputId": "5170ce5c-8483-4061-f5e0-6078aaa6c6e0"
      },
      "source": [
        "%tensorflow_version 1.x\n",
        "import tensorflow as tf\n",
        "tf.__version__"
      ],
      "execution_count": null,
      "outputs": [
        {
          "output_type": "execute_result",
          "data": {
            "application/vnd.google.colaboratory.intrinsic+json": {
              "type": "string"
            },
            "text/plain": [
              "'1.15.2'"
            ]
          },
          "metadata": {},
          "execution_count": 7
        }
      ]
    },
    {
      "cell_type": "markdown",
      "metadata": {
        "id": "A6nJ5h4hLu9_"
      },
      "source": [
        "## 2. Conversion\n",
        "\n",
        "In the following steps we will show the conversion process of our Yolo model, first to a *.pb* format, and then to OpenVINO IR, from which it will be possible to generate a *.blob* that can run on our OAK devices."
      ]
    },
    {
      "cell_type": "code",
      "metadata": {
        "colab": {
          "base_uri": "https://localhost:8080/"
        },
        "id": "zrQG630KL93m",
        "outputId": "81e9cc17-dde9-4cd8-efbb-554abe0fb8c3"
      },
      "source": [
        "%cd /content/"
      ],
      "execution_count": null,
      "outputs": [
        {
          "output_type": "stream",
          "name": "stdout",
          "text": [
            "/content\n"
          ]
        }
      ]
    },
    {
      "cell_type": "markdown",
      "metadata": {
        "id": "Mc19CzWAbpa5"
      },
      "source": [
        "### 2.1 External library"
      ]
    },
    {
      "cell_type": "markdown",
      "metadata": {
        "id": "vN2zxpCtZ17r"
      },
      "source": [
        "We will be using an external library for the conversion."
      ]
    },
    {
      "cell_type": "code",
      "metadata": {
        "colab": {
          "base_uri": "https://localhost:8080/"
        },
        "id": "sJTDYLD1LqJs",
        "outputId": "91dd15fc-d55f-45c4-8cbf-59bd9a3c0f7b"
      },
      "source": [
        "!git clone https://github.com/luxonis/yolo2openvino"
      ],
      "execution_count": null,
      "outputs": [
        {
          "output_type": "stream",
          "name": "stdout",
          "text": [
            "fatal: destination path 'yolo2openvino' already exists and is not an empty directory.\n"
          ]
        }
      ]
    },
    {
      "cell_type": "markdown",
      "metadata": {
        "id": "XVCMbQokchrw"
      },
      "source": [
        "### 2.2 Convert to .pb"
      ]
    },
    {
      "cell_type": "code",
      "metadata": {
        "colab": {
          "base_uri": "https://localhost:8080/"
        },
        "id": "4m-yaOrf0WCm",
        "outputId": "8f886d7d-9de7-499c-8003-fcb6728a04de"
      },
      "source": [
        "%cd /content/yolo2openvino"
      ],
      "execution_count": null,
      "outputs": [
        {
          "output_type": "stream",
          "name": "stdout",
          "text": [
            "/content/yolo2openvino\n"
          ]
        }
      ]
    },
    {
      "cell_type": "code",
      "metadata": {
        "id": "phhC6r9GFMNm"
      },
      "source": [
        "!pip install tensorflow==1.14"
      ],
      "execution_count": null,
      "outputs": []
    },
    {
      "cell_type": "code",
      "metadata": {
        "id": "O9WNUBjwMTFR"
      },
      "source": [
        "output_name = 'qrcode-yolov3-tiny'\n",
        "output_name_pb = output_name+'.pb'"
      ],
      "execution_count": null,
      "outputs": []
    },
    {
      "cell_type": "code",
      "metadata": {
        "colab": {
          "base_uri": "https://localhost:8080/"
        },
        "id": "wBcTooVFL8MN",
        "outputId": "209dc06d-0bab-48f1-c88c-12a4e45dc558"
      },
      "source": [
        "!python3 convert_weights_pb.py \\\n",
        "--yolo 3 \\\n",
        "--weights_file /content/opencv-yolo-qr-detection/qrcode-yolov3-tiny.weights \\\n",
        "--class_names /content/opencv-yolo-qr-detection/qrcode.names \\\n",
        "--output {output_name_pb} \\\n",
        "--tiny \\\n",
        "-h 416 \\\n",
        "-w 416"
      ],
      "execution_count": null,
      "outputs": [
        {
          "output_type": "stream",
          "name": "stdout",
          "text": [
            "/usr/local/lib/python3.7/dist-packages/tensorflow/python/framework/dtypes.py:516: FutureWarning: Passing (type, 1) or '1type' as a synonym of type is deprecated; in a future version of numpy, it will be understood as (type, (1,)) / '(1,)type'.\n",
            "  _np_qint8 = np.dtype([(\"qint8\", np.int8, 1)])\n",
            "/usr/local/lib/python3.7/dist-packages/tensorflow/python/framework/dtypes.py:517: FutureWarning: Passing (type, 1) or '1type' as a synonym of type is deprecated; in a future version of numpy, it will be understood as (type, (1,)) / '(1,)type'.\n",
            "  _np_quint8 = np.dtype([(\"quint8\", np.uint8, 1)])\n",
            "/usr/local/lib/python3.7/dist-packages/tensorflow/python/framework/dtypes.py:518: FutureWarning: Passing (type, 1) or '1type' as a synonym of type is deprecated; in a future version of numpy, it will be understood as (type, (1,)) / '(1,)type'.\n",
            "  _np_qint16 = np.dtype([(\"qint16\", np.int16, 1)])\n",
            "/usr/local/lib/python3.7/dist-packages/tensorflow/python/framework/dtypes.py:519: FutureWarning: Passing (type, 1) or '1type' as a synonym of type is deprecated; in a future version of numpy, it will be understood as (type, (1,)) / '(1,)type'.\n",
            "  _np_quint16 = np.dtype([(\"quint16\", np.uint16, 1)])\n",
            "/usr/local/lib/python3.7/dist-packages/tensorflow/python/framework/dtypes.py:520: FutureWarning: Passing (type, 1) or '1type' as a synonym of type is deprecated; in a future version of numpy, it will be understood as (type, (1,)) / '(1,)type'.\n",
            "  _np_qint32 = np.dtype([(\"qint32\", np.int32, 1)])\n",
            "/usr/local/lib/python3.7/dist-packages/tensorflow/python/framework/dtypes.py:525: FutureWarning: Passing (type, 1) or '1type' as a synonym of type is deprecated; in a future version of numpy, it will be understood as (type, (1,)) / '(1,)type'.\n",
            "  np_resource = np.dtype([(\"resource\", np.ubyte, 1)])\n",
            "/usr/local/lib/python3.7/dist-packages/tensorboard/compat/tensorflow_stub/dtypes.py:541: FutureWarning: Passing (type, 1) or '1type' as a synonym of type is deprecated; in a future version of numpy, it will be understood as (type, (1,)) / '(1,)type'.\n",
            "  _np_qint8 = np.dtype([(\"qint8\", np.int8, 1)])\n",
            "/usr/local/lib/python3.7/dist-packages/tensorboard/compat/tensorflow_stub/dtypes.py:542: FutureWarning: Passing (type, 1) or '1type' as a synonym of type is deprecated; in a future version of numpy, it will be understood as (type, (1,)) / '(1,)type'.\n",
            "  _np_quint8 = np.dtype([(\"quint8\", np.uint8, 1)])\n",
            "/usr/local/lib/python3.7/dist-packages/tensorboard/compat/tensorflow_stub/dtypes.py:543: FutureWarning: Passing (type, 1) or '1type' as a synonym of type is deprecated; in a future version of numpy, it will be understood as (type, (1,)) / '(1,)type'.\n",
            "  _np_qint16 = np.dtype([(\"qint16\", np.int16, 1)])\n",
            "/usr/local/lib/python3.7/dist-packages/tensorboard/compat/tensorflow_stub/dtypes.py:544: FutureWarning: Passing (type, 1) or '1type' as a synonym of type is deprecated; in a future version of numpy, it will be understood as (type, (1,)) / '(1,)type'.\n",
            "  _np_quint16 = np.dtype([(\"quint16\", np.uint16, 1)])\n",
            "/usr/local/lib/python3.7/dist-packages/tensorboard/compat/tensorflow_stub/dtypes.py:545: FutureWarning: Passing (type, 1) or '1type' as a synonym of type is deprecated; in a future version of numpy, it will be understood as (type, (1,)) / '(1,)type'.\n",
            "  _np_qint32 = np.dtype([(\"qint32\", np.int32, 1)])\n",
            "/usr/local/lib/python3.7/dist-packages/tensorboard/compat/tensorflow_stub/dtypes.py:550: FutureWarning: Passing (type, 1) or '1type' as a synonym of type is deprecated; in a future version of numpy, it will be understood as (type, (1,)) / '(1,)type'.\n",
            "  np_resource = np.dtype([(\"resource\", np.ubyte, 1)])\n",
            "WARNING:tensorflow:From convert_weights_pb.py:94: The name tf.app.run is deprecated. Please use tf.compat.v1.app.run instead.\n",
            "\n",
            "None\n",
            "WARNING:tensorflow:From convert_weights_pb.py:68: The name tf.placeholder is deprecated. Please use tf.compat.v1.placeholder instead.\n",
            "\n",
            "W1203 11:46:23.591688 140019572373376 deprecation_wrapper.py:119] From convert_weights_pb.py:68: The name tf.placeholder is deprecated. Please use tf.compat.v1.placeholder instead.\n",
            "\n",
            "WARNING:tensorflow:From convert_weights_pb.py:76: The name tf.variable_scope is deprecated. Please use tf.compat.v1.variable_scope instead.\n",
            "\n",
            "W1203 11:46:23.593440 140019572373376 deprecation_wrapper.py:119] From convert_weights_pb.py:76: The name tf.variable_scope is deprecated. Please use tf.compat.v1.variable_scope instead.\n",
            "\n",
            "WARNING:tensorflow:Entity <bound method Conv.call of <tensorflow.python.layers.convolutional.Conv2D object at 0x7f589746cc50>> could not be transformed and will be executed as-is. Please report this to the AutgoGraph team. When filing the bug, set the verbosity to 10 (on Linux, `export AUTOGRAPH_VERBOSITY=10`) and attach the full output. Cause: converting <bound method Conv.call of <tensorflow.python.layers.convolutional.Conv2D object at 0x7f589746cc50>>: AssertionError: Bad argument number for Name: 3, expecting 4\n",
            "W1203 11:46:23.689049 140019572373376 ag_logging.py:145] Entity <bound method Conv.call of <tensorflow.python.layers.convolutional.Conv2D object at 0x7f589746cc50>> could not be transformed and will be executed as-is. Please report this to the AutgoGraph team. When filing the bug, set the verbosity to 10 (on Linux, `export AUTOGRAPH_VERBOSITY=10`) and attach the full output. Cause: converting <bound method Conv.call of <tensorflow.python.layers.convolutional.Conv2D object at 0x7f589746cc50>>: AssertionError: Bad argument number for Name: 3, expecting 4\n",
            "WARNING:tensorflow:Entity <bound method BatchNormalization.call of <tensorflow.python.layers.normalization.BatchNormalization object at 0x7f589748ac10>> could not be transformed and will be executed as-is. Please report this to the AutgoGraph team. When filing the bug, set the verbosity to 10 (on Linux, `export AUTOGRAPH_VERBOSITY=10`) and attach the full output. Cause: converting <bound method BatchNormalization.call of <tensorflow.python.layers.normalization.BatchNormalization object at 0x7f589748ac10>>: AssertionError: Bad argument number for Name: 3, expecting 4\n",
            "W1203 11:46:23.722733 140019572373376 ag_logging.py:145] Entity <bound method BatchNormalization.call of <tensorflow.python.layers.normalization.BatchNormalization object at 0x7f589748ac10>> could not be transformed and will be executed as-is. Please report this to the AutgoGraph team. When filing the bug, set the verbosity to 10 (on Linux, `export AUTOGRAPH_VERBOSITY=10`) and attach the full output. Cause: converting <bound method BatchNormalization.call of <tensorflow.python.layers.normalization.BatchNormalization object at 0x7f589748ac10>>: AssertionError: Bad argument number for Name: 3, expecting 4\n",
            "WARNING:tensorflow:Entity <bound method Pooling2D.call of <tensorflow.python.layers.pooling.MaxPooling2D object at 0x7f589746cd50>> could not be transformed and will be executed as-is. Please report this to the AutgoGraph team. When filing the bug, set the verbosity to 10 (on Linux, `export AUTOGRAPH_VERBOSITY=10`) and attach the full output. Cause: converting <bound method Pooling2D.call of <tensorflow.python.layers.pooling.MaxPooling2D object at 0x7f589746cd50>>: AssertionError: Bad argument number for Name: 3, expecting 4\n",
            "W1203 11:46:23.772542 140019572373376 ag_logging.py:145] Entity <bound method Pooling2D.call of <tensorflow.python.layers.pooling.MaxPooling2D object at 0x7f589746cd50>> could not be transformed and will be executed as-is. Please report this to the AutgoGraph team. When filing the bug, set the verbosity to 10 (on Linux, `export AUTOGRAPH_VERBOSITY=10`) and attach the full output. Cause: converting <bound method Pooling2D.call of <tensorflow.python.layers.pooling.MaxPooling2D object at 0x7f589746cd50>>: AssertionError: Bad argument number for Name: 3, expecting 4\n",
            "WARNING:tensorflow:Entity <bound method Conv.call of <tensorflow.python.layers.convolutional.Conv2D object at 0x7f589746c9d0>> could not be transformed and will be executed as-is. Please report this to the AutgoGraph team. When filing the bug, set the verbosity to 10 (on Linux, `export AUTOGRAPH_VERBOSITY=10`) and attach the full output. Cause: converting <bound method Conv.call of <tensorflow.python.layers.convolutional.Conv2D object at 0x7f589746c9d0>>: AssertionError: Bad argument number for Name: 3, expecting 4\n",
            "W1203 11:46:23.847537 140019572373376 ag_logging.py:145] Entity <bound method Conv.call of <tensorflow.python.layers.convolutional.Conv2D object at 0x7f589746c9d0>> could not be transformed and will be executed as-is. Please report this to the AutgoGraph team. When filing the bug, set the verbosity to 10 (on Linux, `export AUTOGRAPH_VERBOSITY=10`) and attach the full output. Cause: converting <bound method Conv.call of <tensorflow.python.layers.convolutional.Conv2D object at 0x7f589746c9d0>>: AssertionError: Bad argument number for Name: 3, expecting 4\n",
            "WARNING:tensorflow:Entity <bound method BatchNormalization.call of <tensorflow.python.layers.normalization.BatchNormalization object at 0x7f5896b97ad0>> could not be transformed and will be executed as-is. Please report this to the AutgoGraph team. When filing the bug, set the verbosity to 10 (on Linux, `export AUTOGRAPH_VERBOSITY=10`) and attach the full output. Cause: converting <bound method BatchNormalization.call of <tensorflow.python.layers.normalization.BatchNormalization object at 0x7f5896b97ad0>>: AssertionError: Bad argument number for Name: 3, expecting 4\n",
            "W1203 11:46:23.884585 140019572373376 ag_logging.py:145] Entity <bound method BatchNormalization.call of <tensorflow.python.layers.normalization.BatchNormalization object at 0x7f5896b97ad0>> could not be transformed and will be executed as-is. Please report this to the AutgoGraph team. When filing the bug, set the verbosity to 10 (on Linux, `export AUTOGRAPH_VERBOSITY=10`) and attach the full output. Cause: converting <bound method BatchNormalization.call of <tensorflow.python.layers.normalization.BatchNormalization object at 0x7f5896b97ad0>>: AssertionError: Bad argument number for Name: 3, expecting 4\n",
            "WARNING:tensorflow:Entity <bound method Pooling2D.call of <tensorflow.python.layers.pooling.MaxPooling2D object at 0x7f5896b49b50>> could not be transformed and will be executed as-is. Please report this to the AutgoGraph team. When filing the bug, set the verbosity to 10 (on Linux, `export AUTOGRAPH_VERBOSITY=10`) and attach the full output. Cause: converting <bound method Pooling2D.call of <tensorflow.python.layers.pooling.MaxPooling2D object at 0x7f5896b49b50>>: AssertionError: Bad argument number for Name: 3, expecting 4\n",
            "W1203 11:46:23.931629 140019572373376 ag_logging.py:145] Entity <bound method Pooling2D.call of <tensorflow.python.layers.pooling.MaxPooling2D object at 0x7f5896b49b50>> could not be transformed and will be executed as-is. Please report this to the AutgoGraph team. When filing the bug, set the verbosity to 10 (on Linux, `export AUTOGRAPH_VERBOSITY=10`) and attach the full output. Cause: converting <bound method Pooling2D.call of <tensorflow.python.layers.pooling.MaxPooling2D object at 0x7f5896b49b50>>: AssertionError: Bad argument number for Name: 3, expecting 4\n",
            "WARNING:tensorflow:Entity <bound method Conv.call of <tensorflow.python.layers.convolutional.Conv2D object at 0x7f589746ce10>> could not be transformed and will be executed as-is. Please report this to the AutgoGraph team. When filing the bug, set the verbosity to 10 (on Linux, `export AUTOGRAPH_VERBOSITY=10`) and attach the full output. Cause: converting <bound method Conv.call of <tensorflow.python.layers.convolutional.Conv2D object at 0x7f589746ce10>>: AssertionError: Bad argument number for Name: 3, expecting 4\n",
            "W1203 11:46:24.008160 140019572373376 ag_logging.py:145] Entity <bound method Conv.call of <tensorflow.python.layers.convolutional.Conv2D object at 0x7f589746ce10>> could not be transformed and will be executed as-is. Please report this to the AutgoGraph team. When filing the bug, set the verbosity to 10 (on Linux, `export AUTOGRAPH_VERBOSITY=10`) and attach the full output. Cause: converting <bound method Conv.call of <tensorflow.python.layers.convolutional.Conv2D object at 0x7f589746ce10>>: AssertionError: Bad argument number for Name: 3, expecting 4\n",
            "WARNING:tensorflow:Entity <bound method BatchNormalization.call of <tensorflow.python.layers.normalization.BatchNormalization object at 0x7f5896b8af50>> could not be transformed and will be executed as-is. Please report this to the AutgoGraph team. When filing the bug, set the verbosity to 10 (on Linux, `export AUTOGRAPH_VERBOSITY=10`) and attach the full output. Cause: converting <bound method BatchNormalization.call of <tensorflow.python.layers.normalization.BatchNormalization object at 0x7f5896b8af50>>: AssertionError: Bad argument number for Name: 3, expecting 4\n",
            "W1203 11:46:24.043609 140019572373376 ag_logging.py:145] Entity <bound method BatchNormalization.call of <tensorflow.python.layers.normalization.BatchNormalization object at 0x7f5896b8af50>> could not be transformed and will be executed as-is. Please report this to the AutgoGraph team. When filing the bug, set the verbosity to 10 (on Linux, `export AUTOGRAPH_VERBOSITY=10`) and attach the full output. Cause: converting <bound method BatchNormalization.call of <tensorflow.python.layers.normalization.BatchNormalization object at 0x7f5896b8af50>>: AssertionError: Bad argument number for Name: 3, expecting 4\n",
            "WARNING:tensorflow:Entity <bound method Pooling2D.call of <tensorflow.python.layers.pooling.MaxPooling2D object at 0x7f5896b904d0>> could not be transformed and will be executed as-is. Please report this to the AutgoGraph team. When filing the bug, set the verbosity to 10 (on Linux, `export AUTOGRAPH_VERBOSITY=10`) and attach the full output. Cause: converting <bound method Pooling2D.call of <tensorflow.python.layers.pooling.MaxPooling2D object at 0x7f5896b904d0>>: AssertionError: Bad argument number for Name: 3, expecting 4\n",
            "W1203 11:46:24.100228 140019572373376 ag_logging.py:145] Entity <bound method Pooling2D.call of <tensorflow.python.layers.pooling.MaxPooling2D object at 0x7f5896b904d0>> could not be transformed and will be executed as-is. Please report this to the AutgoGraph team. When filing the bug, set the verbosity to 10 (on Linux, `export AUTOGRAPH_VERBOSITY=10`) and attach the full output. Cause: converting <bound method Pooling2D.call of <tensorflow.python.layers.pooling.MaxPooling2D object at 0x7f5896b904d0>>: AssertionError: Bad argument number for Name: 3, expecting 4\n",
            "WARNING:tensorflow:Entity <bound method Conv.call of <tensorflow.python.layers.convolutional.Conv2D object at 0x7f589746cd50>> could not be transformed and will be executed as-is. Please report this to the AutgoGraph team. When filing the bug, set the verbosity to 10 (on Linux, `export AUTOGRAPH_VERBOSITY=10`) and attach the full output. Cause: converting <bound method Conv.call of <tensorflow.python.layers.convolutional.Conv2D object at 0x7f589746cd50>>: AssertionError: Bad argument number for Name: 3, expecting 4\n",
            "W1203 11:46:24.176937 140019572373376 ag_logging.py:145] Entity <bound method Conv.call of <tensorflow.python.layers.convolutional.Conv2D object at 0x7f589746cd50>> could not be transformed and will be executed as-is. Please report this to the AutgoGraph team. When filing the bug, set the verbosity to 10 (on Linux, `export AUTOGRAPH_VERBOSITY=10`) and attach the full output. Cause: converting <bound method Conv.call of <tensorflow.python.layers.convolutional.Conv2D object at 0x7f589746cd50>>: AssertionError: Bad argument number for Name: 3, expecting 4\n",
            "WARNING:tensorflow:Entity <bound method BatchNormalization.call of <tensorflow.python.layers.normalization.BatchNormalization object at 0x7f5896ab4f10>> could not be transformed and will be executed as-is. Please report this to the AutgoGraph team. When filing the bug, set the verbosity to 10 (on Linux, `export AUTOGRAPH_VERBOSITY=10`) and attach the full output. Cause: converting <bound method BatchNormalization.call of <tensorflow.python.layers.normalization.BatchNormalization object at 0x7f5896ab4f10>>: AssertionError: Bad argument number for Name: 3, expecting 4\n",
            "W1203 11:46:24.215364 140019572373376 ag_logging.py:145] Entity <bound method BatchNormalization.call of <tensorflow.python.layers.normalization.BatchNormalization object at 0x7f5896ab4f10>> could not be transformed and will be executed as-is. Please report this to the AutgoGraph team. When filing the bug, set the verbosity to 10 (on Linux, `export AUTOGRAPH_VERBOSITY=10`) and attach the full output. Cause: converting <bound method BatchNormalization.call of <tensorflow.python.layers.normalization.BatchNormalization object at 0x7f5896ab4f10>>: AssertionError: Bad argument number for Name: 3, expecting 4\n",
            "WARNING:tensorflow:Entity <bound method Pooling2D.call of <tensorflow.python.layers.pooling.MaxPooling2D object at 0x7f589746ce10>> could not be transformed and will be executed as-is. Please report this to the AutgoGraph team. When filing the bug, set the verbosity to 10 (on Linux, `export AUTOGRAPH_VERBOSITY=10`) and attach the full output. Cause: converting <bound method Pooling2D.call of <tensorflow.python.layers.pooling.MaxPooling2D object at 0x7f589746ce10>>: AssertionError: Bad argument number for Name: 3, expecting 4\n",
            "W1203 11:46:24.265082 140019572373376 ag_logging.py:145] Entity <bound method Pooling2D.call of <tensorflow.python.layers.pooling.MaxPooling2D object at 0x7f589746ce10>> could not be transformed and will be executed as-is. Please report this to the AutgoGraph team. When filing the bug, set the verbosity to 10 (on Linux, `export AUTOGRAPH_VERBOSITY=10`) and attach the full output. Cause: converting <bound method Pooling2D.call of <tensorflow.python.layers.pooling.MaxPooling2D object at 0x7f589746ce10>>: AssertionError: Bad argument number for Name: 3, expecting 4\n",
            "WARNING:tensorflow:Entity <bound method Conv.call of <tensorflow.python.layers.convolutional.Conv2D object at 0x7f5896b05c10>> could not be transformed and will be executed as-is. Please report this to the AutgoGraph team. When filing the bug, set the verbosity to 10 (on Linux, `export AUTOGRAPH_VERBOSITY=10`) and attach the full output. Cause: converting <bound method Conv.call of <tensorflow.python.layers.convolutional.Conv2D object at 0x7f5896b05c10>>: AssertionError: Bad argument number for Name: 3, expecting 4\n",
            "W1203 11:46:24.340766 140019572373376 ag_logging.py:145] Entity <bound method Conv.call of <tensorflow.python.layers.convolutional.Conv2D object at 0x7f5896b05c10>> could not be transformed and will be executed as-is. Please report this to the AutgoGraph team. When filing the bug, set the verbosity to 10 (on Linux, `export AUTOGRAPH_VERBOSITY=10`) and attach the full output. Cause: converting <bound method Conv.call of <tensorflow.python.layers.convolutional.Conv2D object at 0x7f5896b05c10>>: AssertionError: Bad argument number for Name: 3, expecting 4\n",
            "WARNING:tensorflow:Entity <bound method BatchNormalization.call of <tensorflow.python.layers.normalization.BatchNormalization object at 0x7f5896b2c250>> could not be transformed and will be executed as-is. Please report this to the AutgoGraph team. When filing the bug, set the verbosity to 10 (on Linux, `export AUTOGRAPH_VERBOSITY=10`) and attach the full output. Cause: converting <bound method BatchNormalization.call of <tensorflow.python.layers.normalization.BatchNormalization object at 0x7f5896b2c250>>: AssertionError: Bad argument number for Name: 3, expecting 4\n",
            "W1203 11:46:24.379972 140019572373376 ag_logging.py:145] Entity <bound method BatchNormalization.call of <tensorflow.python.layers.normalization.BatchNormalization object at 0x7f5896b2c250>> could not be transformed and will be executed as-is. Please report this to the AutgoGraph team. When filing the bug, set the verbosity to 10 (on Linux, `export AUTOGRAPH_VERBOSITY=10`) and attach the full output. Cause: converting <bound method BatchNormalization.call of <tensorflow.python.layers.normalization.BatchNormalization object at 0x7f5896b2c250>>: AssertionError: Bad argument number for Name: 3, expecting 4\n",
            "WARNING:tensorflow:Entity <bound method Pooling2D.call of <tensorflow.python.layers.pooling.MaxPooling2D object at 0x7f589746cd50>> could not be transformed and will be executed as-is. Please report this to the AutgoGraph team. When filing the bug, set the verbosity to 10 (on Linux, `export AUTOGRAPH_VERBOSITY=10`) and attach the full output. Cause: converting <bound method Pooling2D.call of <tensorflow.python.layers.pooling.MaxPooling2D object at 0x7f589746cd50>>: AssertionError: Bad argument number for Name: 3, expecting 4\n",
            "W1203 11:46:24.432915 140019572373376 ag_logging.py:145] Entity <bound method Pooling2D.call of <tensorflow.python.layers.pooling.MaxPooling2D object at 0x7f589746cd50>> could not be transformed and will be executed as-is. Please report this to the AutgoGraph team. When filing the bug, set the verbosity to 10 (on Linux, `export AUTOGRAPH_VERBOSITY=10`) and attach the full output. Cause: converting <bound method Pooling2D.call of <tensorflow.python.layers.pooling.MaxPooling2D object at 0x7f589746cd50>>: AssertionError: Bad argument number for Name: 3, expecting 4\n",
            "WARNING:tensorflow:Entity <bound method Conv.call of <tensorflow.python.layers.convolutional.Conv2D object at 0x7f5896ab4350>> could not be transformed and will be executed as-is. Please report this to the AutgoGraph team. When filing the bug, set the verbosity to 10 (on Linux, `export AUTOGRAPH_VERBOSITY=10`) and attach the full output. Cause: converting <bound method Conv.call of <tensorflow.python.layers.convolutional.Conv2D object at 0x7f5896ab4350>>: AssertionError: Bad argument number for Name: 3, expecting 4\n",
            "W1203 11:46:24.510664 140019572373376 ag_logging.py:145] Entity <bound method Conv.call of <tensorflow.python.layers.convolutional.Conv2D object at 0x7f5896ab4350>> could not be transformed and will be executed as-is. Please report this to the AutgoGraph team. When filing the bug, set the verbosity to 10 (on Linux, `export AUTOGRAPH_VERBOSITY=10`) and attach the full output. Cause: converting <bound method Conv.call of <tensorflow.python.layers.convolutional.Conv2D object at 0x7f5896ab4350>>: AssertionError: Bad argument number for Name: 3, expecting 4\n",
            "WARNING:tensorflow:Entity <bound method BatchNormalization.call of <tensorflow.python.layers.normalization.BatchNormalization object at 0x7f5896b2c610>> could not be transformed and will be executed as-is. Please report this to the AutgoGraph team. When filing the bug, set the verbosity to 10 (on Linux, `export AUTOGRAPH_VERBOSITY=10`) and attach the full output. Cause: converting <bound method BatchNormalization.call of <tensorflow.python.layers.normalization.BatchNormalization object at 0x7f5896b2c610>>: AssertionError: Bad argument number for Name: 3, expecting 4\n",
            "W1203 11:46:24.547878 140019572373376 ag_logging.py:145] Entity <bound method BatchNormalization.call of <tensorflow.python.layers.normalization.BatchNormalization object at 0x7f5896b2c610>> could not be transformed and will be executed as-is. Please report this to the AutgoGraph team. When filing the bug, set the verbosity to 10 (on Linux, `export AUTOGRAPH_VERBOSITY=10`) and attach the full output. Cause: converting <bound method BatchNormalization.call of <tensorflow.python.layers.normalization.BatchNormalization object at 0x7f5896b2c610>>: AssertionError: Bad argument number for Name: 3, expecting 4\n",
            "WARNING:tensorflow:Entity <bound method Pooling2D.call of <tensorflow.python.layers.pooling.MaxPooling2D object at 0x7f589746cd50>> could not be transformed and will be executed as-is. Please report this to the AutgoGraph team. When filing the bug, set the verbosity to 10 (on Linux, `export AUTOGRAPH_VERBOSITY=10`) and attach the full output. Cause: converting <bound method Pooling2D.call of <tensorflow.python.layers.pooling.MaxPooling2D object at 0x7f589746cd50>>: AssertionError: Bad argument number for Name: 3, expecting 4\n",
            "W1203 11:46:24.598380 140019572373376 ag_logging.py:145] Entity <bound method Pooling2D.call of <tensorflow.python.layers.pooling.MaxPooling2D object at 0x7f589746cd50>> could not be transformed and will be executed as-is. Please report this to the AutgoGraph team. When filing the bug, set the verbosity to 10 (on Linux, `export AUTOGRAPH_VERBOSITY=10`) and attach the full output. Cause: converting <bound method Pooling2D.call of <tensorflow.python.layers.pooling.MaxPooling2D object at 0x7f589746cd50>>: AssertionError: Bad argument number for Name: 3, expecting 4\n",
            "WARNING:tensorflow:Entity <bound method Conv.call of <tensorflow.python.layers.convolutional.Conv2D object at 0x7f5896ab4250>> could not be transformed and will be executed as-is. Please report this to the AutgoGraph team. When filing the bug, set the verbosity to 10 (on Linux, `export AUTOGRAPH_VERBOSITY=10`) and attach the full output. Cause: converting <bound method Conv.call of <tensorflow.python.layers.convolutional.Conv2D object at 0x7f5896ab4250>>: AssertionError: Bad argument number for Name: 3, expecting 4\n",
            "W1203 11:46:24.671699 140019572373376 ag_logging.py:145] Entity <bound method Conv.call of <tensorflow.python.layers.convolutional.Conv2D object at 0x7f5896ab4250>> could not be transformed and will be executed as-is. Please report this to the AutgoGraph team. When filing the bug, set the verbosity to 10 (on Linux, `export AUTOGRAPH_VERBOSITY=10`) and attach the full output. Cause: converting <bound method Conv.call of <tensorflow.python.layers.convolutional.Conv2D object at 0x7f5896ab4250>>: AssertionError: Bad argument number for Name: 3, expecting 4\n",
            "WARNING:tensorflow:Entity <bound method BatchNormalization.call of <tensorflow.python.layers.normalization.BatchNormalization object at 0x7f589699e890>> could not be transformed and will be executed as-is. Please report this to the AutgoGraph team. When filing the bug, set the verbosity to 10 (on Linux, `export AUTOGRAPH_VERBOSITY=10`) and attach the full output. Cause: converting <bound method BatchNormalization.call of <tensorflow.python.layers.normalization.BatchNormalization object at 0x7f589699e890>>: AssertionError: Bad argument number for Name: 3, expecting 4\n",
            "W1203 11:46:24.722863 140019572373376 ag_logging.py:145] Entity <bound method BatchNormalization.call of <tensorflow.python.layers.normalization.BatchNormalization object at 0x7f589699e890>> could not be transformed and will be executed as-is. Please report this to the AutgoGraph team. When filing the bug, set the verbosity to 10 (on Linux, `export AUTOGRAPH_VERBOSITY=10`) and attach the full output. Cause: converting <bound method BatchNormalization.call of <tensorflow.python.layers.normalization.BatchNormalization object at 0x7f589699e890>>: AssertionError: Bad argument number for Name: 3, expecting 4\n",
            "WARNING:tensorflow:Entity <bound method Conv.call of <tensorflow.python.layers.convolutional.Conv2D object at 0x7f5896b4a950>> could not be transformed and will be executed as-is. Please report this to the AutgoGraph team. When filing the bug, set the verbosity to 10 (on Linux, `export AUTOGRAPH_VERBOSITY=10`) and attach the full output. Cause: converting <bound method Conv.call of <tensorflow.python.layers.convolutional.Conv2D object at 0x7f5896b4a950>>: AssertionError: Bad argument number for Name: 3, expecting 4\n",
            "W1203 11:46:24.800571 140019572373376 ag_logging.py:145] Entity <bound method Conv.call of <tensorflow.python.layers.convolutional.Conv2D object at 0x7f5896b4a950>> could not be transformed and will be executed as-is. Please report this to the AutgoGraph team. When filing the bug, set the verbosity to 10 (on Linux, `export AUTOGRAPH_VERBOSITY=10`) and attach the full output. Cause: converting <bound method Conv.call of <tensorflow.python.layers.convolutional.Conv2D object at 0x7f5896b4a950>>: AssertionError: Bad argument number for Name: 3, expecting 4\n",
            "WARNING:tensorflow:Entity <bound method BatchNormalization.call of <tensorflow.python.layers.normalization.BatchNormalization object at 0x7f589699ed90>> could not be transformed and will be executed as-is. Please report this to the AutgoGraph team. When filing the bug, set the verbosity to 10 (on Linux, `export AUTOGRAPH_VERBOSITY=10`) and attach the full output. Cause: converting <bound method BatchNormalization.call of <tensorflow.python.layers.normalization.BatchNormalization object at 0x7f589699ed90>>: AssertionError: Bad argument number for Name: 3, expecting 4\n",
            "W1203 11:46:24.833434 140019572373376 ag_logging.py:145] Entity <bound method BatchNormalization.call of <tensorflow.python.layers.normalization.BatchNormalization object at 0x7f589699ed90>> could not be transformed and will be executed as-is. Please report this to the AutgoGraph team. When filing the bug, set the verbosity to 10 (on Linux, `export AUTOGRAPH_VERBOSITY=10`) and attach the full output. Cause: converting <bound method BatchNormalization.call of <tensorflow.python.layers.normalization.BatchNormalization object at 0x7f589699ed90>>: AssertionError: Bad argument number for Name: 3, expecting 4\n",
            "WARNING:tensorflow:Entity <bound method Conv.call of <tensorflow.python.layers.convolutional.Conv2D object at 0x7f589748aad0>> could not be transformed and will be executed as-is. Please report this to the AutgoGraph team. When filing the bug, set the verbosity to 10 (on Linux, `export AUTOGRAPH_VERBOSITY=10`) and attach the full output. Cause: converting <bound method Conv.call of <tensorflow.python.layers.convolutional.Conv2D object at 0x7f589748aad0>>: AssertionError: Bad argument number for Name: 3, expecting 4\n",
            "W1203 11:46:24.909606 140019572373376 ag_logging.py:145] Entity <bound method Conv.call of <tensorflow.python.layers.convolutional.Conv2D object at 0x7f589748aad0>> could not be transformed and will be executed as-is. Please report this to the AutgoGraph team. When filing the bug, set the verbosity to 10 (on Linux, `export AUTOGRAPH_VERBOSITY=10`) and attach the full output. Cause: converting <bound method Conv.call of <tensorflow.python.layers.convolutional.Conv2D object at 0x7f589748aad0>>: AssertionError: Bad argument number for Name: 3, expecting 4\n",
            "WARNING:tensorflow:Entity <bound method BatchNormalization.call of <tensorflow.python.layers.normalization.BatchNormalization object at 0x7f58969da610>> could not be transformed and will be executed as-is. Please report this to the AutgoGraph team. When filing the bug, set the verbosity to 10 (on Linux, `export AUTOGRAPH_VERBOSITY=10`) and attach the full output. Cause: converting <bound method BatchNormalization.call of <tensorflow.python.layers.normalization.BatchNormalization object at 0x7f58969da610>>: AssertionError: Bad argument number for Name: 3, expecting 4\n",
            "W1203 11:46:24.948027 140019572373376 ag_logging.py:145] Entity <bound method BatchNormalization.call of <tensorflow.python.layers.normalization.BatchNormalization object at 0x7f58969da610>> could not be transformed and will be executed as-is. Please report this to the AutgoGraph team. When filing the bug, set the verbosity to 10 (on Linux, `export AUTOGRAPH_VERBOSITY=10`) and attach the full output. Cause: converting <bound method BatchNormalization.call of <tensorflow.python.layers.normalization.BatchNormalization object at 0x7f58969da610>>: AssertionError: Bad argument number for Name: 3, expecting 4\n",
            "WARNING:tensorflow:Entity <bound method Conv.call of <tensorflow.python.layers.convolutional.Conv2D object at 0x7f5898ae3e10>> could not be transformed and will be executed as-is. Please report this to the AutgoGraph team. When filing the bug, set the verbosity to 10 (on Linux, `export AUTOGRAPH_VERBOSITY=10`) and attach the full output. Cause: converting <bound method Conv.call of <tensorflow.python.layers.convolutional.Conv2D object at 0x7f5898ae3e10>>: AssertionError: Bad argument number for Name: 3, expecting 4\n",
            "W1203 11:46:25.034044 140019572373376 ag_logging.py:145] Entity <bound method Conv.call of <tensorflow.python.layers.convolutional.Conv2D object at 0x7f5898ae3e10>> could not be transformed and will be executed as-is. Please report this to the AutgoGraph team. When filing the bug, set the verbosity to 10 (on Linux, `export AUTOGRAPH_VERBOSITY=10`) and attach the full output. Cause: converting <bound method Conv.call of <tensorflow.python.layers.convolutional.Conv2D object at 0x7f5898ae3e10>>: AssertionError: Bad argument number for Name: 3, expecting 4\n",
            "WARNING:tensorflow:Entity <bound method Conv.call of <tensorflow.python.layers.convolutional.Conv2D object at 0x7f5896a28a90>> could not be transformed and will be executed as-is. Please report this to the AutgoGraph team. When filing the bug, set the verbosity to 10 (on Linux, `export AUTOGRAPH_VERBOSITY=10`) and attach the full output. Cause: converting <bound method Conv.call of <tensorflow.python.layers.convolutional.Conv2D object at 0x7f5896a28a90>>: AssertionError: Bad argument number for Name: 3, expecting 4\n",
            "W1203 11:46:25.227687 140019572373376 ag_logging.py:145] Entity <bound method Conv.call of <tensorflow.python.layers.convolutional.Conv2D object at 0x7f5896a28a90>> could not be transformed and will be executed as-is. Please report this to the AutgoGraph team. When filing the bug, set the verbosity to 10 (on Linux, `export AUTOGRAPH_VERBOSITY=10`) and attach the full output. Cause: converting <bound method Conv.call of <tensorflow.python.layers.convolutional.Conv2D object at 0x7f5896a28a90>>: AssertionError: Bad argument number for Name: 3, expecting 4\n",
            "WARNING:tensorflow:Entity <bound method BatchNormalization.call of <tensorflow.python.layers.normalization.BatchNormalization object at 0x7f58968d6090>> could not be transformed and will be executed as-is. Please report this to the AutgoGraph team. When filing the bug, set the verbosity to 10 (on Linux, `export AUTOGRAPH_VERBOSITY=10`) and attach the full output. Cause: converting <bound method BatchNormalization.call of <tensorflow.python.layers.normalization.BatchNormalization object at 0x7f58968d6090>>: AssertionError: Bad argument number for Name: 3, expecting 4\n",
            "W1203 11:46:25.261263 140019572373376 ag_logging.py:145] Entity <bound method BatchNormalization.call of <tensorflow.python.layers.normalization.BatchNormalization object at 0x7f58968d6090>> could not be transformed and will be executed as-is. Please report this to the AutgoGraph team. When filing the bug, set the verbosity to 10 (on Linux, `export AUTOGRAPH_VERBOSITY=10`) and attach the full output. Cause: converting <bound method BatchNormalization.call of <tensorflow.python.layers.normalization.BatchNormalization object at 0x7f58968d6090>>: AssertionError: Bad argument number for Name: 3, expecting 4\n",
            "WARNING:tensorflow:From /content/yolo2openvino/models/common.py:112: The name tf.image.resize_nearest_neighbor is deprecated. Please use tf.compat.v1.image.resize_nearest_neighbor instead.\n",
            "\n",
            "W1203 11:46:25.264301 140019572373376 deprecation_wrapper.py:119] From /content/yolo2openvino/models/common.py:112: The name tf.image.resize_nearest_neighbor is deprecated. Please use tf.compat.v1.image.resize_nearest_neighbor instead.\n",
            "\n",
            "WARNING:tensorflow:Entity <bound method Conv.call of <tensorflow.python.layers.convolutional.Conv2D object at 0x7f5897458990>> could not be transformed and will be executed as-is. Please report this to the AutgoGraph team. When filing the bug, set the verbosity to 10 (on Linux, `export AUTOGRAPH_VERBOSITY=10`) and attach the full output. Cause: converting <bound method Conv.call of <tensorflow.python.layers.convolutional.Conv2D object at 0x7f5897458990>>: AssertionError: Bad argument number for Name: 3, expecting 4\n",
            "W1203 11:46:25.344686 140019572373376 ag_logging.py:145] Entity <bound method Conv.call of <tensorflow.python.layers.convolutional.Conv2D object at 0x7f5897458990>> could not be transformed and will be executed as-is. Please report this to the AutgoGraph team. When filing the bug, set the verbosity to 10 (on Linux, `export AUTOGRAPH_VERBOSITY=10`) and attach the full output. Cause: converting <bound method Conv.call of <tensorflow.python.layers.convolutional.Conv2D object at 0x7f5897458990>>: AssertionError: Bad argument number for Name: 3, expecting 4\n",
            "WARNING:tensorflow:Entity <bound method BatchNormalization.call of <tensorflow.python.layers.normalization.BatchNormalization object at 0x7f58967a2450>> could not be transformed and will be executed as-is. Please report this to the AutgoGraph team. When filing the bug, set the verbosity to 10 (on Linux, `export AUTOGRAPH_VERBOSITY=10`) and attach the full output. Cause: converting <bound method BatchNormalization.call of <tensorflow.python.layers.normalization.BatchNormalization object at 0x7f58967a2450>>: AssertionError: Bad argument number for Name: 3, expecting 4\n",
            "W1203 11:46:25.381157 140019572373376 ag_logging.py:145] Entity <bound method BatchNormalization.call of <tensorflow.python.layers.normalization.BatchNormalization object at 0x7f58967a2450>> could not be transformed and will be executed as-is. Please report this to the AutgoGraph team. When filing the bug, set the verbosity to 10 (on Linux, `export AUTOGRAPH_VERBOSITY=10`) and attach the full output. Cause: converting <bound method BatchNormalization.call of <tensorflow.python.layers.normalization.BatchNormalization object at 0x7f58967a2450>>: AssertionError: Bad argument number for Name: 3, expecting 4\n",
            "WARNING:tensorflow:Entity <bound method Conv.call of <tensorflow.python.layers.convolutional.Conv2D object at 0x7f5896990690>> could not be transformed and will be executed as-is. Please report this to the AutgoGraph team. When filing the bug, set the verbosity to 10 (on Linux, `export AUTOGRAPH_VERBOSITY=10`) and attach the full output. Cause: converting <bound method Conv.call of <tensorflow.python.layers.convolutional.Conv2D object at 0x7f5896990690>>: AssertionError: Bad argument number for Name: 3, expecting 4\n",
            "W1203 11:46:25.460669 140019572373376 ag_logging.py:145] Entity <bound method Conv.call of <tensorflow.python.layers.convolutional.Conv2D object at 0x7f5896990690>> could not be transformed and will be executed as-is. Please report this to the AutgoGraph team. When filing the bug, set the verbosity to 10 (on Linux, `export AUTOGRAPH_VERBOSITY=10`) and attach the full output. Cause: converting <bound method Conv.call of <tensorflow.python.layers.convolutional.Conv2D object at 0x7f5896990690>>: AssertionError: Bad argument number for Name: 3, expecting 4\n",
            "WARNING:tensorflow:From convert_weights_pb.py:78: The name tf.global_variables is deprecated. Please use tf.compat.v1.global_variables instead.\n",
            "\n",
            "W1203 11:46:25.501338 140019572373376 deprecation_wrapper.py:119] From convert_weights_pb.py:78: The name tf.global_variables is deprecated. Please use tf.compat.v1.global_variables instead.\n",
            "\n",
            "WARNING:tensorflow:From /content/yolo2openvino/utils/utils.py:91: The name tf.assign is deprecated. Please use tf.compat.v1.assign instead.\n",
            "\n",
            "W1203 11:46:25.519789 140019572373376 deprecation_wrapper.py:119] From /content/yolo2openvino/utils/utils.py:91: The name tf.assign is deprecated. Please use tf.compat.v1.assign instead.\n",
            "\n",
            "Starting conversion with the following parameters:\n",
            "Yolo version: 3\n",
            "Anchors: [(10, 14), (23, 27), (37, 58), (81, 82), (135, 169), (344, 319)]\n",
            "Shape: Tensor(\"inputs:0\", shape=(?, 416, 416, 3), dtype=float32)\n",
            "Classes: {0: 'QR_CODE'}\n",
            "WARNING:tensorflow:From convert_weights_pb.py:89: The name tf.Session is deprecated. Please use tf.compat.v1.Session instead.\n",
            "\n",
            "W1203 11:46:25.821212 140019572373376 deprecation_wrapper.py:119] From convert_weights_pb.py:89: The name tf.Session is deprecated. Please use tf.compat.v1.Session instead.\n",
            "\n",
            "2021-12-03 11:46:25.821698: I tensorflow/core/platform/cpu_feature_guard.cc:142] Your CPU supports instructions that this TensorFlow binary was not compiled to use: AVX2 FMA\n",
            "2021-12-03 11:46:25.825017: I tensorflow/core/platform/profile_utils/cpu_utils.cc:94] CPU Frequency: 2199995000 Hz\n",
            "2021-12-03 11:46:25.825274: I tensorflow/compiler/xla/service/service.cc:168] XLA service 0x56461c2cb180 executing computations on platform Host. Devices:\n",
            "2021-12-03 11:46:25.825308: I tensorflow/compiler/xla/service/service.cc:175]   StreamExecutor device (0): <undefined>, <undefined>\n",
            "2021-12-03 11:46:26.752793: W tensorflow/compiler/jit/mark_for_compilation_pass.cc:1412] (One-time warning): Not using XLA:CPU for cluster because envvar TF_XLA_FLAGS=--tf_xla_cpu_global_jit was not set.  If you want XLA:CPU, either set that envvar, or use experimental_jit_scope to enable XLA:CPU.  To confirm that XLA is active, pass --vmodule=xla_compilation_cache=1 (as a proper command-line flag, not via TF_XLA_FLAGS) or set the envvar XLA_FLAGS=--xla_hlo_profile.\n",
            "WARNING:tensorflow:From /content/yolo2openvino/utils/utils.py:51: convert_variables_to_constants (from tensorflow.python.framework.graph_util_impl) is deprecated and will be removed in a future version.\n",
            "Instructions for updating:\n",
            "Use `tf.compat.v1.graph_util.convert_variables_to_constants`\n",
            "W1203 11:46:26.889403 140019572373376 deprecation.py:323] From /content/yolo2openvino/utils/utils.py:51: convert_variables_to_constants (from tensorflow.python.framework.graph_util_impl) is deprecated and will be removed in a future version.\n",
            "Instructions for updating:\n",
            "Use `tf.compat.v1.graph_util.convert_variables_to_constants`\n",
            "WARNING:tensorflow:From /usr/local/lib/python3.7/dist-packages/tensorflow/python/framework/graph_util_impl.py:270: extract_sub_graph (from tensorflow.python.framework.graph_util_impl) is deprecated and will be removed in a future version.\n",
            "Instructions for updating:\n",
            "Use `tf.compat.v1.graph_util.extract_sub_graph`\n",
            "W1203 11:46:26.889750 140019572373376 deprecation.py:323] From /usr/local/lib/python3.7/dist-packages/tensorflow/python/framework/graph_util_impl.py:270: extract_sub_graph (from tensorflow.python.framework.graph_util_impl) is deprecated and will be removed in a future version.\n",
            "Instructions for updating:\n",
            "Use `tf.compat.v1.graph_util.extract_sub_graph`\n",
            "INFO:tensorflow:Froze 59 variables.\n",
            "I1203 11:46:26.969949 140019572373376 graph_util_impl.py:311] Froze 59 variables.\n",
            "INFO:tensorflow:Converted 59 variables to const ops.\n",
            "I1203 11:46:27.016050 140019572373376 graph_util_impl.py:364] Converted 59 variables to const ops.\n",
            "WARNING:tensorflow:From /content/yolo2openvino/utils/utils.py:54: The name tf.gfile.GFile is deprecated. Please use tf.io.gfile.GFile instead.\n",
            "\n",
            "W1203 11:46:27.019414 140019572373376 deprecation_wrapper.py:119] From /content/yolo2openvino/utils/utils.py:54: The name tf.gfile.GFile is deprecated. Please use tf.io.gfile.GFile instead.\n",
            "\n",
            "299 ops written to qrcode-yolov3-tiny.pb.\n"
          ]
        }
      ]
    },
    {
      "cell_type": "markdown",
      "metadata": {
        "id": "0HhivBvuNZi7"
      },
      "source": [
        "### 2.3 Install OpenVINO 2021.3"
      ]
    },
    {
      "cell_type": "code",
      "metadata": {
        "colab": {
          "base_uri": "https://localhost:8080/"
        },
        "id": "b2DnQEBuNRs_",
        "outputId": "3d897cc0-465a-4afe-fb46-e5571e44c2df"
      },
      "source": [
        "%cd /content/\n",
        "import os\n",
        "from urllib.parse import urlparse\n",
        "\n",
        "## install tools. Open Vino takes some time to download - it's ~400MB\n",
        "!sudo apt-get install -y pciutils cpio\n",
        "!sudo apt autoremove\n",
        "\n",
        "## downnload installation files\n",
        "url = \"https://registrationcenter-download.intel.com/akdlm/irc_nas/17662/l_openvino_toolkit_p_2021.3.394.tgz\"\n",
        "!wget {url}\n",
        "\n",
        "## Get the name of the tgz\n",
        "parsed = urlparse(url)\n",
        "openvino_tgz = os.path.basename(parsed.path)\n",
        "openvino_folder = os.path.splitext(openvino_tgz)[0]\n",
        "\n",
        "## Extract & install openvino\n",
        "!tar xf {openvino_tgz}\n",
        "%cd {openvino_folder}\n",
        "!./install_openvino_dependencies.sh && \\\n",
        "    sed -i 's/decline/accept/g' silent.cfg && \\\n",
        "    ./install.sh --silent silent.cfg"
      ],
      "execution_count": null,
      "outputs": [
        {
          "output_type": "stream",
          "name": "stdout",
          "text": [
            "/content\n",
            "Reading package lists... Done\n",
            "Building dependency tree       \n",
            "Reading state information... Done\n",
            "The following additional packages will be installed:\n",
            "  libpci3\n",
            "Suggested packages:\n",
            "  libarchive1\n",
            "The following NEW packages will be installed:\n",
            "  cpio libpci3 pciutils\n",
            "0 upgraded, 3 newly installed, 0 to remove and 37 not upgraded.\n",
            "Need to get 368 kB of archives.\n",
            "After this operation, 1,786 kB of additional disk space will be used.\n",
            "Get:1 http://archive.ubuntu.com/ubuntu bionic-updates/main amd64 cpio amd64 2.12+dfsg-6ubuntu0.18.04.4 [86.4 kB]\n",
            "Get:2 http://archive.ubuntu.com/ubuntu bionic-updates/main amd64 libpci3 amd64 1:3.5.2-1ubuntu1.1 [24.1 kB]\n",
            "Get:3 http://archive.ubuntu.com/ubuntu bionic-updates/main amd64 pciutils amd64 1:3.5.2-1ubuntu1.1 [257 kB]\n",
            "Fetched 368 kB in 6s (58.3 kB/s)\n",
            "debconf: unable to initialize frontend: Dialog\n",
            "debconf: (No usable dialog-like program is installed, so the dialog based frontend cannot be used. at /usr/share/perl5/Debconf/FrontEnd/Dialog.pm line 76, <> line 3.)\n",
            "debconf: falling back to frontend: Readline\n",
            "debconf: unable to initialize frontend: Readline\n",
            "debconf: (This frontend requires a controlling tty.)\n",
            "debconf: falling back to frontend: Teletype\n",
            "dpkg-preconfigure: unable to re-open stdin: \n",
            "Selecting previously unselected package cpio.\n",
            "(Reading database ... 155222 files and directories currently installed.)\n",
            "Preparing to unpack .../cpio_2.12+dfsg-6ubuntu0.18.04.4_amd64.deb ...\n",
            "Unpacking cpio (2.12+dfsg-6ubuntu0.18.04.4) ...\n",
            "Selecting previously unselected package libpci3:amd64.\n",
            "Preparing to unpack .../libpci3_1%3a3.5.2-1ubuntu1.1_amd64.deb ...\n",
            "Unpacking libpci3:amd64 (1:3.5.2-1ubuntu1.1) ...\n",
            "Selecting previously unselected package pciutils.\n",
            "Preparing to unpack .../pciutils_1%3a3.5.2-1ubuntu1.1_amd64.deb ...\n",
            "Unpacking pciutils (1:3.5.2-1ubuntu1.1) ...\n",
            "Setting up cpio (2.12+dfsg-6ubuntu0.18.04.4) ...\n",
            "update-alternatives: using /bin/mt-gnu to provide /bin/mt (mt) in auto mode\n",
            "Setting up libpci3:amd64 (1:3.5.2-1ubuntu1.1) ...\n",
            "Setting up pciutils (1:3.5.2-1ubuntu1.1) ...\n",
            "Processing triggers for libc-bin (2.27-3ubuntu1.3) ...\n",
            "/sbin/ldconfig.real: /usr/local/lib/python3.7/dist-packages/ideep4py/lib/libmkldnn.so.0 is not a symbolic link\n",
            "\n",
            "Processing triggers for man-db (2.8.3-2ubuntu0.1) ...\n",
            "Reading package lists... Done\n",
            "Building dependency tree       \n",
            "Reading state information... Done\n",
            "0 upgraded, 0 newly installed, 0 to remove and 37 not upgraded.\n",
            "--2021-12-03 11:51:11--  https://registrationcenter-download.intel.com/akdlm/irc_nas/17662/l_openvino_toolkit_p_2021.3.394.tgz\n",
            "Resolving registrationcenter-download.intel.com (registrationcenter-download.intel.com)... 104.116.243.115, 23.199.34.32\n",
            "Connecting to registrationcenter-download.intel.com (registrationcenter-download.intel.com)|104.116.243.115|:443... connected.\n",
            "HTTP request sent, awaiting response... 200 OK\n",
            "Length: 551176145 (526M) [application/octet-stream]\n",
            "Saving to: ‘l_openvino_toolkit_p_2021.3.394.tgz’\n",
            "\n",
            "l_openvino_toolkit_ 100%[===================>] 525.64M  53.6MB/s    in 12s     \n",
            "\n",
            "2021-12-03 11:51:22 (45.3 MB/s) - ‘l_openvino_toolkit_p_2021.3.394.tgz’ saved [551176145/551176145]\n",
            "\n",
            "/content/l_openvino_toolkit_p_2021.3.394\n",
            "Detected OS: ubuntu18.04\n",
            "Get:1 https://cloud.r-project.org/bin/linux/ubuntu bionic-cran40/ InRelease [3,626 B]\n",
            "Ign:2 https://developer.download.nvidia.com/compute/cuda/repos/ubuntu1804/x86_64  InRelease\n",
            "Get:3 http://ppa.launchpad.net/c2d4u.team/c2d4u4.0+/ubuntu bionic InRelease [15.9 kB]\n",
            "Hit:4 http://archive.ubuntu.com/ubuntu bionic InRelease\n",
            "Get:5 http://security.ubuntu.com/ubuntu bionic-security InRelease [88.7 kB]\n",
            "Ign:6 https://developer.download.nvidia.com/compute/machine-learning/repos/ubuntu1804/x86_64  InRelease\n",
            "Get:7 https://developer.download.nvidia.com/compute/cuda/repos/ubuntu1804/x86_64  Release [696 B]\n",
            "Hit:8 https://developer.download.nvidia.com/compute/machine-learning/repos/ubuntu1804/x86_64  Release\n",
            "Get:9 https://developer.download.nvidia.com/compute/cuda/repos/ubuntu1804/x86_64  Release.gpg [836 B]\n",
            "Get:10 http://archive.ubuntu.com/ubuntu bionic-updates InRelease [88.7 kB]\n",
            "Hit:12 http://ppa.launchpad.net/cran/libgit2/ubuntu bionic InRelease\n",
            "Get:13 https://developer.download.nvidia.com/compute/cuda/repos/ubuntu1804/x86_64  Packages [829 kB]\n",
            "Get:14 http://archive.ubuntu.com/ubuntu bionic-backports InRelease [74.6 kB]\n",
            "Hit:15 http://ppa.launchpad.net/deadsnakes/ppa/ubuntu bionic InRelease\n",
            "Get:16 http://security.ubuntu.com/ubuntu bionic-security/restricted amd64 Packages [689 kB]\n",
            "Get:17 http://ppa.launchpad.net/graphics-drivers/ppa/ubuntu bionic InRelease [21.3 kB]\n",
            "Get:18 http://archive.ubuntu.com/ubuntu bionic-updates/universe amd64 Packages [2,225 kB]\n",
            "Get:19 http://ppa.launchpad.net/c2d4u.team/c2d4u4.0+/ubuntu bionic/main Sources [1,813 kB]\n",
            "Get:20 http://security.ubuntu.com/ubuntu bionic-security/main amd64 Packages [2,459 kB]\n",
            "Get:21 http://security.ubuntu.com/ubuntu bionic-security/universe amd64 Packages [1,444 kB]\n",
            "Get:22 http://archive.ubuntu.com/ubuntu bionic-updates/restricted amd64 Packages [725 kB]\n",
            "Get:23 http://archive.ubuntu.com/ubuntu bionic-updates/main amd64 Packages [2,898 kB]\n",
            "Get:24 http://ppa.launchpad.net/c2d4u.team/c2d4u4.0+/ubuntu bionic/main amd64 Packages [930 kB]\n",
            "Get:25 http://ppa.launchpad.net/graphics-drivers/ppa/ubuntu bionic/main amd64 Packages [44.7 kB]\n",
            "Fetched 14.4 MB in 7s (1,939 kB/s)\n",
            "Reading package lists... Done\n",
            "Reading package lists... Done\n",
            "Building dependency tree       \n",
            "Reading state information... Done\n",
            "Note, selecting 'libgl1-mesa-dev' instead of 'libgl-dev'\n",
            "libusb-1.0-0 is already the newest version (2:1.0.21-2).\n",
            "libusb-1.0-0 set to manually installed.\n",
            "make is already the newest version (4.1-9.1ubuntu1).\n",
            "make set to manually installed.\n",
            "cmake is already the newest version (3.10.2-1ubuntu2.18.04.2).\n",
            "cpio is already the newest version (2.12+dfsg-6ubuntu0.18.04.4).\n",
            "curl is already the newest version (7.58.0-2ubuntu3.16).\n",
            "g++ is already the newest version (4:7.4.0-1ubuntu2.3).\n",
            "g++ set to manually installed.\n",
            "gcc is already the newest version (4:7.4.0-1ubuntu2.3).\n",
            "gcc set to manually installed.\n",
            "libc6-dev is already the newest version (2.27-3ubuntu1.4).\n",
            "libc6-dev set to manually installed.\n",
            "libgl1 is already the newest version (1.0.0-2ubuntu2.3).\n",
            "libgl1-mesa-dev is already the newest version (20.0.8-0ubuntu1~18.04.1).\n",
            "libgl1-mesa-dev set to manually installed.\n",
            "libglib2.0-dev is already the newest version (2.56.4-0ubuntu0.18.04.8).\n",
            "libglib2.0-dev set to manually installed.\n",
            "libgtk-3-0 is already the newest version (3.22.30-1ubuntu4).\n",
            "libgtk-3-0 set to manually installed.\n",
            "libtinfo5 is already the newest version (6.1-1ubuntu1.18.04).\n",
            "python3 is already the newest version (3.6.7-1~18.04).\n",
            "python3 set to manually installed.\n",
            "python3-dev is already the newest version (3.6.7-1~18.04).\n",
            "python3-dev set to manually installed.\n",
            "python3-gi is already the newest version (3.26.1-2ubuntu1).\n",
            "python3-gi set to manually installed.\n",
            "ffmpeg is already the newest version (7:3.4.8-0ubuntu0.2).\n",
            "libavcodec57 is already the newest version (7:3.4.8-0ubuntu0.2).\n",
            "libavcodec57 set to manually installed.\n",
            "libavformat57 is already the newest version (7:3.4.8-0ubuntu0.2).\n",
            "libavformat57 set to manually installed.\n",
            "libavresample3 is already the newest version (7:3.4.8-0ubuntu0.2).\n",
            "libavresample3 set to manually installed.\n",
            "libavutil55 is already the newest version (7:3.4.8-0ubuntu0.2).\n",
            "libavutil55 set to manually installed.\n",
            "libswscale4 is already the newest version (7:3.4.8-0ubuntu0.2).\n",
            "libswscale4 set to manually installed.\n",
            "The following additional packages will be installed:\n",
            "  liba52-0.7.4 libaa1 libcap2-bin libcdparanoia0 libdca0 libde265-0 libdv4\n",
            "  libdvdnav4 libdvdread4 libfaad2 libgpm2 libgssdp-1.0-3 libgstreamer-gl1.0-0\n",
            "  libgstreamer-plugins-bad1.0-0 libgstreamer-plugins-base1.0-0\n",
            "  libgstreamer-plugins-good1.0-0 libgupnp-1.0-4 libgupnp-igd-1.0-4 libhogweed4\n",
            "  libkate1 liblilv-0-0 libmjpegutils-2.1-0 libmms0 libmodplug1 libmpcdec6\n",
            "  libmpeg2-4 libmpeg2encpp-2.1-0 libmplex2-2.1-0 libnice10 libofa0\n",
            "  libopencore-amrnb0 libopencore-amrwb0 liborc-0.4-0 libsbc1 libserd-0-0\n",
            "  libshout3 libsidplay1v5 libsigsegv2 libsord-0-0 libsoundtouch1 libspandsp2\n",
            "  libsratom-0-0 libsrtp2-1 libtag1v5 libtag1v5-vanilla libv4l-0 libv4lconvert0\n",
            "  libva-wayland2 libvisual-0.4-0 libvo-aacenc0 libvo-amrwbenc0 libvulkan1\n",
            "  libwebrtc-audio-processing1 libwildmidi-config libwildmidi2 libzbar0 m4\n",
            "  python-pip-whl python3-pkg-resources python3.6-venv\n",
            "Suggested packages:\n",
            "  bison flex-doc alsa-utils frei0r-plugins gvfs gstreamer1.0-vaapi-doc\n",
            "  libdv-bin oss-compat libdvdcss2 fluidr3mono-gm-soundfont\n",
            "  | timgm6mb-soundfont | fluid-soundfont-gm gpm libvisual-0.4-plugins serdi\n",
            "  sidplay-base sordi m4-doc python-setuptools-doc\n",
            "Recommended packages:\n",
            "  libfl-dev gstreamer1.0-x libpam-cap gstreamer1.0-gl mesa-vulkan-drivers\n",
            "  | vulkan-icd freepats python3-wheel\n",
            "The following NEW packages will be installed:\n",
            "  flex gstreamer1.0-alsa gstreamer1.0-plugins-bad gstreamer1.0-plugins-base\n",
            "  gstreamer1.0-plugins-good gstreamer1.0-plugins-ugly gstreamer1.0-tools\n",
            "  gstreamer1.0-vaapi liba52-0.7.4 libaa1 libcap2-bin libcdparanoia0 libdca0\n",
            "  libde265-0 libdv4 libdvdnav4 libdvdread4 libfaac0 libfaad2 libfluidsynth1\n",
            "  libgpm2 libgssdp-1.0-3 libgstreamer-gl1.0-0 libgstreamer-plugins-bad1.0-0\n",
            "  libgstreamer-plugins-base1.0-0 libgstreamer-plugins-good1.0-0\n",
            "  libgstreamer1.0-0 libgupnp-1.0-4 libgupnp-igd-1.0-4 libkate1 liblilv-0-0\n",
            "  libmjpegutils-2.1-0 libmms0 libmodplug1 libmpcdec6 libmpeg2-4\n",
            "  libmpeg2encpp-2.1-0 libmplex2-2.1-0 libnice10 libofa0 libopencore-amrnb0\n",
            "  libopencore-amrwb0 liborc-0.4-0 libsbc1 libserd-0-0 libshout3 libsidplay1v5\n",
            "  libsigsegv2 libsord-0-0 libsoundtouch1 libspandsp2 libsratom-0-0 libsrtp2-1\n",
            "  libtag-extras1 libtag1v5 libtag1v5-vanilla libv4l-0 libv4lconvert0\n",
            "  libva-wayland2 libvisual-0.4-0 libvo-aacenc0 libvo-amrwbenc0 libvulkan1\n",
            "  libwebrtc-audio-processing1 libwildmidi-config libwildmidi2 libzbar0 m4\n",
            "  python-pip-whl python3-pip python3-pkg-resources python3-setuptools\n",
            "  python3-venv python3.6-venv vainfo\n",
            "The following packages will be upgraded:\n",
            "  libhogweed4 libnettle6\n",
            "2 upgraded, 75 newly installed, 0 to remove and 41 not upgraded.\n",
            "Need to get 13.3 MB of archives.\n",
            "After this operation, 43.3 MB of additional disk space will be used.\n",
            "Get:1 http://ppa.launchpad.net/graphics-drivers/ppa/ubuntu bionic/main amd64 libvulkan1 amd64 1.1.126.0-2~gpu18.04.1 [101 kB]\n",
            "Get:2 http://archive.ubuntu.com/ubuntu bionic/main amd64 libsigsegv2 amd64 2.12-1 [14.7 kB]\n",
            "Get:3 http://archive.ubuntu.com/ubuntu bionic/main amd64 m4 amd64 1.4.18-1 [197 kB]\n",
            "Get:4 http://archive.ubuntu.com/ubuntu bionic/main amd64 flex amd64 2.6.4-6 [316 kB]\n",
            "Get:5 http://archive.ubuntu.com/ubuntu bionic/universe amd64 libopencore-amrnb0 amd64 0.1.3-2.1 [92.0 kB]\n",
            "Get:6 http://archive.ubuntu.com/ubuntu bionic/universe amd64 libopencore-amrwb0 amd64 0.1.3-2.1 [45.8 kB]\n",
            "Get:7 http://archive.ubuntu.com/ubuntu bionic/universe amd64 libvo-aacenc0 amd64 0.1.3-1 [71.0 kB]\n",
            "Get:8 http://archive.ubuntu.com/ubuntu bionic/universe amd64 libvo-amrwbenc0 amd64 0.1.3-1 [66.4 kB]\n",
            "Get:9 http://archive.ubuntu.com/ubuntu bionic-updates/main amd64 libnettle6 amd64 3.4.1-0ubuntu0.18.04.1 [111 kB]\n",
            "Get:10 http://archive.ubuntu.com/ubuntu bionic-updates/main amd64 libhogweed4 amd64 3.4.1-0ubuntu0.18.04.1 [140 kB]\n",
            "Get:11 http://archive.ubuntu.com/ubuntu bionic/main amd64 libcap2-bin amd64 1:2.25-1.2 [20.6 kB]\n",
            "Get:12 http://archive.ubuntu.com/ubuntu bionic-updates/main amd64 libgstreamer1.0-0 amd64 1.14.5-0ubuntu1~18.04.2 [865 kB]\n",
            "Get:13 http://archive.ubuntu.com/ubuntu bionic/main amd64 liborc-0.4-0 amd64 1:0.4.28-1 [137 kB]\n",
            "Get:14 http://archive.ubuntu.com/ubuntu bionic-updates/main amd64 libgstreamer-plugins-base1.0-0 amd64 1.14.5-0ubuntu1~18.04.3 [689 kB]\n",
            "Get:15 http://archive.ubuntu.com/ubuntu bionic-updates/main amd64 gstreamer1.0-alsa amd64 1.14.5-0ubuntu1~18.04.3 [35.5 kB]\n",
            "Get:16 http://archive.ubuntu.com/ubuntu bionic/main amd64 libcdparanoia0 amd64 3.10.2+debian-13 [46.7 kB]\n",
            "Get:17 http://archive.ubuntu.com/ubuntu bionic/main amd64 libvisual-0.4-0 amd64 0.4.0-11 [99.2 kB]\n",
            "Get:18 http://archive.ubuntu.com/ubuntu bionic-updates/main amd64 gstreamer1.0-plugins-base amd64 1.14.5-0ubuntu1~18.04.3 [586 kB]\n",
            "Get:19 http://archive.ubuntu.com/ubuntu bionic/main amd64 libgpm2 amd64 1.20.7-5 [15.1 kB]\n",
            "Get:20 http://archive.ubuntu.com/ubuntu bionic/main amd64 libaa1 amd64 1.4p5-44build2 [47.2 kB]\n",
            "Get:21 http://archive.ubuntu.com/ubuntu bionic/main amd64 libdv4 amd64 1.0.0-11 [57.8 kB]\n",
            "Get:22 http://archive.ubuntu.com/ubuntu bionic-updates/main amd64 libgstreamer-plugins-good1.0-0 amd64 1.14.5-0ubuntu1~18.04.2 [62.6 kB]\n",
            "Get:23 http://archive.ubuntu.com/ubuntu bionic/main amd64 libshout3 amd64 2.4.1-2build1 [43.1 kB]\n",
            "Get:24 http://archive.ubuntu.com/ubuntu bionic/main amd64 libtag1v5-vanilla amd64 1.11.1+dfsg.1-0.2build2 [265 kB]\n",
            "Get:25 http://archive.ubuntu.com/ubuntu bionic/main amd64 libtag1v5 amd64 1.11.1+dfsg.1-0.2build2 [10.9 kB]\n",
            "Get:26 http://archive.ubuntu.com/ubuntu bionic/main amd64 libv4lconvert0 amd64 1.14.2-1 [76.1 kB]\n",
            "Get:27 http://archive.ubuntu.com/ubuntu bionic/main amd64 libv4l-0 amd64 1.14.2-1 [41.7 kB]\n",
            "Get:28 http://archive.ubuntu.com/ubuntu bionic-updates/main amd64 gstreamer1.0-plugins-good amd64 1.14.5-0ubuntu1~18.04.2 [1,691 kB]\n",
            "Get:29 http://archive.ubuntu.com/ubuntu bionic/universe amd64 liba52-0.7.4 amd64 0.7.4-19 [35.2 kB]\n",
            "Get:30 http://archive.ubuntu.com/ubuntu bionic/universe amd64 libdvdread4 amd64 6.0.0-1 [50.6 kB]\n",
            "Get:31 http://archive.ubuntu.com/ubuntu bionic/universe amd64 libmpeg2-4 amd64 0.5.1-8 [57.5 kB]\n",
            "Get:32 http://archive.ubuntu.com/ubuntu bionic/universe amd64 libsidplay1v5 amd64 1.36.59-11 [63.2 kB]\n",
            "Get:33 http://archive.ubuntu.com/ubuntu bionic-updates/universe amd64 gstreamer1.0-plugins-ugly amd64 1.14.5-0ubuntu1~18.04.1 [237 kB]\n",
            "Get:34 http://archive.ubuntu.com/ubuntu bionic-updates/main amd64 gstreamer1.0-tools amd64 1.14.5-0ubuntu1~18.04.2 [40.5 kB]\n",
            "Get:35 http://archive.ubuntu.com/ubuntu bionic-updates/main amd64 libgstreamer-gl1.0-0 amd64 1.14.5-0ubuntu1~18.04.3 [147 kB]\n",
            "Get:36 http://archive.ubuntu.com/ubuntu bionic-updates/universe amd64 libgstreamer-plugins-bad1.0-0 amd64 1.14.5-0ubuntu1~18.04.1 [322 kB]\n",
            "Get:37 http://archive.ubuntu.com/ubuntu bionic/universe amd64 libva-wayland2 amd64 2.1.0-3 [8,756 B]\n",
            "Get:38 http://archive.ubuntu.com/ubuntu bionic-updates/universe amd64 gstreamer1.0-vaapi amd64 1.14.5-0ubuntu1~ubuntu18.04.1 [310 kB]\n",
            "Get:39 http://archive.ubuntu.com/ubuntu bionic/universe amd64 libde265-0 amd64 1.0.2-2build1 [234 kB]\n",
            "Get:40 http://archive.ubuntu.com/ubuntu bionic/universe amd64 libdvdnav4 amd64 6.0.0-1 [38.0 kB]\n",
            "Get:41 http://archive.ubuntu.com/ubuntu bionic/multiverse amd64 libfaac0 amd64 1.29.7.7-1 [44.4 kB]\n",
            "Get:42 http://archive.ubuntu.com/ubuntu bionic/universe amd64 libfaad2 amd64 2.8.8-1 [154 kB]\n",
            "Get:43 http://archive.ubuntu.com/ubuntu bionic/universe amd64 libfluidsynth1 amd64 1.1.9-1 [137 kB]\n",
            "Get:44 http://archive.ubuntu.com/ubuntu bionic/universe amd64 libgssdp-1.0-3 amd64 1.0.2-2 [23.0 kB]\n",
            "Get:45 http://archive.ubuntu.com/ubuntu bionic/universe amd64 libgupnp-1.0-4 amd64 1.0.2-2 [59.7 kB]\n",
            "Get:46 http://archive.ubuntu.com/ubuntu bionic/universe amd64 libgupnp-igd-1.0-4 amd64 0.2.5-1 [14.9 kB]\n",
            "Get:47 http://archive.ubuntu.com/ubuntu bionic/universe amd64 libkate1 amd64 0.4.1-7build1 [38.1 kB]\n",
            "Get:48 http://archive.ubuntu.com/ubuntu bionic/universe amd64 libserd-0-0 amd64 0.28.0~dfsg0-1 [37.0 kB]\n",
            "Get:49 http://archive.ubuntu.com/ubuntu bionic/universe amd64 libsord-0-0 amd64 0.16.0~dfsg0-1 [20.2 kB]\n",
            "Get:50 http://archive.ubuntu.com/ubuntu bionic/universe amd64 libsratom-0-0 amd64 0.6.0~dfsg0-1 [15.8 kB]\n",
            "Get:51 http://archive.ubuntu.com/ubuntu bionic/universe amd64 liblilv-0-0 amd64 0.24.2~dfsg0-1 [38.0 kB]\n",
            "Get:52 http://archive.ubuntu.com/ubuntu bionic/universe amd64 libmjpegutils-2.1-0 amd64 1:2.1.0+debian-5 [24.6 kB]\n",
            "Get:53 http://archive.ubuntu.com/ubuntu bionic/universe amd64 libmms0 amd64 0.6.4-2 [27.4 kB]\n",
            "Get:54 http://archive.ubuntu.com/ubuntu bionic/universe amd64 libmodplug1 amd64 1:0.8.9.0-1 [150 kB]\n",
            "Get:55 http://archive.ubuntu.com/ubuntu bionic/universe amd64 libmpcdec6 amd64 2:0.1~r495-1 [32.3 kB]\n",
            "Get:56 http://archive.ubuntu.com/ubuntu bionic/universe amd64 libmpeg2encpp-2.1-0 amd64 1:2.1.0+debian-5 [67.6 kB]\n",
            "Get:57 http://archive.ubuntu.com/ubuntu bionic/universe amd64 libmplex2-2.1-0 amd64 1:2.1.0+debian-5 [43.7 kB]\n",
            "Get:58 http://archive.ubuntu.com/ubuntu bionic/universe amd64 libnice10 amd64 0.1.14-1 [126 kB]\n",
            "Get:59 http://archive.ubuntu.com/ubuntu bionic/universe amd64 libofa0 amd64 0.9.3-15 [49.1 kB]\n",
            "Get:60 http://archive.ubuntu.com/ubuntu bionic/universe amd64 libsoundtouch1 amd64 1.9.2-3 [39.6 kB]\n",
            "Get:61 http://archive.ubuntu.com/ubuntu bionic/universe amd64 libspandsp2 amd64 0.0.6+dfsg-0.1 [273 kB]\n",
            "Get:62 http://archive.ubuntu.com/ubuntu bionic/universe amd64 libsrtp2-1 amd64 2.1.0-1 [57.4 kB]\n",
            "Get:63 http://archive.ubuntu.com/ubuntu bionic/universe amd64 libtag-extras1 amd64 1.0.1-3.1 [18.6 kB]\n",
            "Get:64 http://archive.ubuntu.com/ubuntu bionic/main amd64 libwebrtc-audio-processing1 amd64 0.3-1 [260 kB]\n",
            "Get:65 http://archive.ubuntu.com/ubuntu bionic/universe amd64 libwildmidi-config all 0.4.2-1 [7,212 B]\n",
            "Get:66 http://archive.ubuntu.com/ubuntu bionic/universe amd64 libwildmidi2 amd64 0.4.2-1 [55.8 kB]\n",
            "Get:67 http://archive.ubuntu.com/ubuntu bionic/universe amd64 libzbar0 amd64 0.10+doc-10.1build2 [75.7 kB]\n",
            "Get:68 http://archive.ubuntu.com/ubuntu bionic-updates/universe amd64 python-pip-whl all 9.0.1-2.3~ubuntu1.18.04.5 [1,653 kB]\n",
            "Get:69 http://archive.ubuntu.com/ubuntu bionic-updates/universe amd64 python3-pip all 9.0.1-2.3~ubuntu1.18.04.5 [114 kB]\n",
            "Get:70 http://archive.ubuntu.com/ubuntu bionic/main amd64 python3-pkg-resources all 39.0.1-2 [98.8 kB]\n",
            "Get:71 http://archive.ubuntu.com/ubuntu bionic/main amd64 python3-setuptools all 39.0.1-2 [248 kB]\n",
            "Get:72 http://archive.ubuntu.com/ubuntu bionic-updates/universe amd64 python3.6-venv amd64 3.6.9-1~18.04ubuntu1.4 [6,188 B]\n",
            "Get:73 http://archive.ubuntu.com/ubuntu bionic-updates/universe amd64 python3-venv amd64 3.6.7-1~18.04 [1,208 B]\n",
            "Get:74 http://archive.ubuntu.com/ubuntu bionic/universe amd64 vainfo amd64 2.1.0+ds1-1 [9,884 B]\n",
            "Get:75 http://archive.ubuntu.com/ubuntu bionic/universe amd64 libdca0 amd64 0.0.5-10 [100.0 kB]\n",
            "Get:76 http://archive.ubuntu.com/ubuntu bionic/main amd64 libsbc1 amd64 1.3-2 [33.1 kB]\n",
            "Get:77 http://archive.ubuntu.com/ubuntu bionic-updates/universe amd64 gstreamer1.0-plugins-bad amd64 1.14.5-0ubuntu1~18.04.1 [1,627 kB]\n",
            "Fetched 13.3 MB in 5s (2,587 kB/s)\n",
            "Extracting templates from packages: 100%\n",
            "Selecting previously unselected package libsigsegv2:amd64.\n",
            "(Reading database ... 155253 files and directories currently installed.)\n",
            "Preparing to unpack .../0-libsigsegv2_2.12-1_amd64.deb ...\n",
            "Unpacking libsigsegv2:amd64 (2.12-1) ...\n",
            "Selecting previously unselected package m4.\n",
            "Preparing to unpack .../1-m4_1.4.18-1_amd64.deb ...\n",
            "Unpacking m4 (1.4.18-1) ...\n",
            "Selecting previously unselected package flex.\n",
            "Preparing to unpack .../2-flex_2.6.4-6_amd64.deb ...\n",
            "Unpacking flex (2.6.4-6) ...\n",
            "Selecting previously unselected package libopencore-amrnb0:amd64.\n",
            "Preparing to unpack .../3-libopencore-amrnb0_0.1.3-2.1_amd64.deb ...\n",
            "Unpacking libopencore-amrnb0:amd64 (0.1.3-2.1) ...\n",
            "Selecting previously unselected package libopencore-amrwb0:amd64.\n",
            "Preparing to unpack .../4-libopencore-amrwb0_0.1.3-2.1_amd64.deb ...\n",
            "Unpacking libopencore-amrwb0:amd64 (0.1.3-2.1) ...\n",
            "Selecting previously unselected package libvo-aacenc0:amd64.\n",
            "Preparing to unpack .../5-libvo-aacenc0_0.1.3-1_amd64.deb ...\n",
            "Unpacking libvo-aacenc0:amd64 (0.1.3-1) ...\n",
            "Selecting previously unselected package libvo-amrwbenc0:amd64.\n",
            "Preparing to unpack .../6-libvo-amrwbenc0_0.1.3-1_amd64.deb ...\n",
            "Unpacking libvo-amrwbenc0:amd64 (0.1.3-1) ...\n",
            "Preparing to unpack .../7-libnettle6_3.4.1-0ubuntu0.18.04.1_amd64.deb ...\n",
            "Unpacking libnettle6:amd64 (3.4.1-0ubuntu0.18.04.1) over (3.4-1) ...\n",
            "Setting up libnettle6:amd64 (3.4.1-0ubuntu0.18.04.1) ...\n",
            "(Reading database ... 155413 files and directories currently installed.)\n",
            "Preparing to unpack .../libhogweed4_3.4.1-0ubuntu0.18.04.1_amd64.deb ...\n",
            "Unpacking libhogweed4:amd64 (3.4.1-0ubuntu0.18.04.1) over (3.4-1) ...\n",
            "Setting up libhogweed4:amd64 (3.4.1-0ubuntu0.18.04.1) ...\n",
            "Selecting previously unselected package libcap2-bin.\n",
            "(Reading database ... 155413 files and directories currently installed.)\n",
            "Preparing to unpack .../00-libcap2-bin_1%3a2.25-1.2_amd64.deb ...\n",
            "Unpacking libcap2-bin (1:2.25-1.2) ...\n",
            "Selecting previously unselected package libgstreamer1.0-0:amd64.\n",
            "Preparing to unpack .../01-libgstreamer1.0-0_1.14.5-0ubuntu1~18.04.2_amd64.deb ...\n",
            "Unpacking libgstreamer1.0-0:amd64 (1.14.5-0ubuntu1~18.04.2) ...\n",
            "Selecting previously unselected package liborc-0.4-0:amd64.\n",
            "Preparing to unpack .../02-liborc-0.4-0_1%3a0.4.28-1_amd64.deb ...\n",
            "Unpacking liborc-0.4-0:amd64 (1:0.4.28-1) ...\n",
            "Selecting previously unselected package libgstreamer-plugins-base1.0-0:amd64.\n",
            "Preparing to unpack .../03-libgstreamer-plugins-base1.0-0_1.14.5-0ubuntu1~18.04.3_amd64.deb ...\n",
            "Unpacking libgstreamer-plugins-base1.0-0:amd64 (1.14.5-0ubuntu1~18.04.3) ...\n",
            "Selecting previously unselected package gstreamer1.0-alsa:amd64.\n",
            "Preparing to unpack .../04-gstreamer1.0-alsa_1.14.5-0ubuntu1~18.04.3_amd64.deb ...\n",
            "Unpacking gstreamer1.0-alsa:amd64 (1.14.5-0ubuntu1~18.04.3) ...\n",
            "Selecting previously unselected package libcdparanoia0:amd64.\n",
            "Preparing to unpack .../05-libcdparanoia0_3.10.2+debian-13_amd64.deb ...\n",
            "Unpacking libcdparanoia0:amd64 (3.10.2+debian-13) ...\n",
            "Selecting previously unselected package libvisual-0.4-0:amd64.\n",
            "Preparing to unpack .../06-libvisual-0.4-0_0.4.0-11_amd64.deb ...\n",
            "Unpacking libvisual-0.4-0:amd64 (0.4.0-11) ...\n",
            "Selecting previously unselected package gstreamer1.0-plugins-base:amd64.\n",
            "Preparing to unpack .../07-gstreamer1.0-plugins-base_1.14.5-0ubuntu1~18.04.3_amd64.deb ...\n",
            "Unpacking gstreamer1.0-plugins-base:amd64 (1.14.5-0ubuntu1~18.04.3) ...\n",
            "Selecting previously unselected package libgpm2:amd64.\n",
            "Preparing to unpack .../08-libgpm2_1.20.7-5_amd64.deb ...\n",
            "Unpacking libgpm2:amd64 (1.20.7-5) ...\n",
            "Selecting previously unselected package libaa1:amd64.\n",
            "Preparing to unpack .../09-libaa1_1.4p5-44build2_amd64.deb ...\n",
            "Unpacking libaa1:amd64 (1.4p5-44build2) ...\n",
            "Selecting previously unselected package libdv4:amd64.\n",
            "Preparing to unpack .../10-libdv4_1.0.0-11_amd64.deb ...\n",
            "Unpacking libdv4:amd64 (1.0.0-11) ...\n",
            "Selecting previously unselected package libgstreamer-plugins-good1.0-0:amd64.\n",
            "Preparing to unpack .../11-libgstreamer-plugins-good1.0-0_1.14.5-0ubuntu1~18.04.2_amd64.deb ...\n",
            "Unpacking libgstreamer-plugins-good1.0-0:amd64 (1.14.5-0ubuntu1~18.04.2) ...\n",
            "Selecting previously unselected package libshout3:amd64.\n",
            "Preparing to unpack .../12-libshout3_2.4.1-2build1_amd64.deb ...\n",
            "Unpacking libshout3:amd64 (2.4.1-2build1) ...\n",
            "Selecting previously unselected package libtag1v5-vanilla:amd64.\n",
            "Preparing to unpack .../13-libtag1v5-vanilla_1.11.1+dfsg.1-0.2build2_amd64.deb ...\n",
            "Unpacking libtag1v5-vanilla:amd64 (1.11.1+dfsg.1-0.2build2) ...\n",
            "Selecting previously unselected package libtag1v5:amd64.\n",
            "Preparing to unpack .../14-libtag1v5_1.11.1+dfsg.1-0.2build2_amd64.deb ...\n",
            "Unpacking libtag1v5:amd64 (1.11.1+dfsg.1-0.2build2) ...\n",
            "Selecting previously unselected package libv4lconvert0:amd64.\n",
            "Preparing to unpack .../15-libv4lconvert0_1.14.2-1_amd64.deb ...\n",
            "Unpacking libv4lconvert0:amd64 (1.14.2-1) ...\n",
            "Selecting previously unselected package libv4l-0:amd64.\n",
            "Preparing to unpack .../16-libv4l-0_1.14.2-1_amd64.deb ...\n",
            "Unpacking libv4l-0:amd64 (1.14.2-1) ...\n",
            "Selecting previously unselected package gstreamer1.0-plugins-good:amd64.\n",
            "Preparing to unpack .../17-gstreamer1.0-plugins-good_1.14.5-0ubuntu1~18.04.2_amd64.deb ...\n",
            "Unpacking gstreamer1.0-plugins-good:amd64 (1.14.5-0ubuntu1~18.04.2) ...\n",
            "Selecting previously unselected package liba52-0.7.4:amd64.\n",
            "Preparing to unpack .../18-liba52-0.7.4_0.7.4-19_amd64.deb ...\n",
            "Unpacking liba52-0.7.4:amd64 (0.7.4-19) ...\n",
            "Selecting previously unselected package libdvdread4:amd64.\n",
            "Preparing to unpack .../19-libdvdread4_6.0.0-1_amd64.deb ...\n",
            "Unpacking libdvdread4:amd64 (6.0.0-1) ...\n",
            "Selecting previously unselected package libmpeg2-4:amd64.\n",
            "Preparing to unpack .../20-libmpeg2-4_0.5.1-8_amd64.deb ...\n",
            "Unpacking libmpeg2-4:amd64 (0.5.1-8) ...\n",
            "Selecting previously unselected package libsidplay1v5:amd64.\n",
            "Preparing to unpack .../21-libsidplay1v5_1.36.59-11_amd64.deb ...\n",
            "Unpacking libsidplay1v5:amd64 (1.36.59-11) ...\n",
            "Selecting previously unselected package gstreamer1.0-plugins-ugly:amd64.\n",
            "Preparing to unpack .../22-gstreamer1.0-plugins-ugly_1.14.5-0ubuntu1~18.04.1_amd64.deb ...\n",
            "Unpacking gstreamer1.0-plugins-ugly:amd64 (1.14.5-0ubuntu1~18.04.1) ...\n",
            "Selecting previously unselected package gstreamer1.0-tools.\n",
            "Preparing to unpack .../23-gstreamer1.0-tools_1.14.5-0ubuntu1~18.04.2_amd64.deb ...\n",
            "Unpacking gstreamer1.0-tools (1.14.5-0ubuntu1~18.04.2) ...\n",
            "Selecting previously unselected package libgstreamer-gl1.0-0:amd64.\n",
            "Preparing to unpack .../24-libgstreamer-gl1.0-0_1.14.5-0ubuntu1~18.04.3_amd64.deb ...\n",
            "Unpacking libgstreamer-gl1.0-0:amd64 (1.14.5-0ubuntu1~18.04.3) ...\n",
            "Selecting previously unselected package libgstreamer-plugins-bad1.0-0:amd64.\n",
            "Preparing to unpack .../25-libgstreamer-plugins-bad1.0-0_1.14.5-0ubuntu1~18.04.1_amd64.deb ...\n",
            "Unpacking libgstreamer-plugins-bad1.0-0:amd64 (1.14.5-0ubuntu1~18.04.1) ...\n",
            "Selecting previously unselected package libva-wayland2:amd64.\n",
            "Preparing to unpack .../26-libva-wayland2_2.1.0-3_amd64.deb ...\n",
            "Unpacking libva-wayland2:amd64 (2.1.0-3) ...\n",
            "Selecting previously unselected package gstreamer1.0-vaapi:amd64.\n",
            "Preparing to unpack .../27-gstreamer1.0-vaapi_1.14.5-0ubuntu1~ubuntu18.04.1_amd64.deb ...\n",
            "Unpacking gstreamer1.0-vaapi:amd64 (1.14.5-0ubuntu1~ubuntu18.04.1) ...\n",
            "Selecting previously unselected package libde265-0:amd64.\n",
            "Preparing to unpack .../28-libde265-0_1.0.2-2build1_amd64.deb ...\n",
            "Unpacking libde265-0:amd64 (1.0.2-2build1) ...\n",
            "Selecting previously unselected package libdvdnav4:amd64.\n",
            "Preparing to unpack .../29-libdvdnav4_6.0.0-1_amd64.deb ...\n",
            "Unpacking libdvdnav4:amd64 (6.0.0-1) ...\n",
            "Selecting previously unselected package libfaac0:amd64.\n",
            "Preparing to unpack .../30-libfaac0_1.29.7.7-1_amd64.deb ...\n",
            "Unpacking libfaac0:amd64 (1.29.7.7-1) ...\n",
            "Selecting previously unselected package libfaad2:amd64.\n",
            "Preparing to unpack .../31-libfaad2_2.8.8-1_amd64.deb ...\n",
            "Unpacking libfaad2:amd64 (2.8.8-1) ...\n",
            "Selecting previously unselected package libfluidsynth1:amd64.\n",
            "Preparing to unpack .../32-libfluidsynth1_1.1.9-1_amd64.deb ...\n",
            "Unpacking libfluidsynth1:amd64 (1.1.9-1) ...\n",
            "Selecting previously unselected package libgssdp-1.0-3:amd64.\n",
            "Preparing to unpack .../33-libgssdp-1.0-3_1.0.2-2_amd64.deb ...\n",
            "Unpacking libgssdp-1.0-3:amd64 (1.0.2-2) ...\n",
            "Selecting previously unselected package libgupnp-1.0-4:amd64.\n",
            "Preparing to unpack .../34-libgupnp-1.0-4_1.0.2-2_amd64.deb ...\n",
            "Unpacking libgupnp-1.0-4:amd64 (1.0.2-2) ...\n",
            "Selecting previously unselected package libgupnp-igd-1.0-4:amd64.\n",
            "Preparing to unpack .../35-libgupnp-igd-1.0-4_0.2.5-1_amd64.deb ...\n",
            "Unpacking libgupnp-igd-1.0-4:amd64 (0.2.5-1) ...\n",
            "Selecting previously unselected package libkate1:amd64.\n",
            "Preparing to unpack .../36-libkate1_0.4.1-7build1_amd64.deb ...\n",
            "Unpacking libkate1:amd64 (0.4.1-7build1) ...\n",
            "Selecting previously unselected package libserd-0-0:amd64.\n",
            "Preparing to unpack .../37-libserd-0-0_0.28.0~dfsg0-1_amd64.deb ...\n",
            "Unpacking libserd-0-0:amd64 (0.28.0~dfsg0-1) ...\n",
            "Selecting previously unselected package libsord-0-0:amd64.\n",
            "Preparing to unpack .../38-libsord-0-0_0.16.0~dfsg0-1_amd64.deb ...\n",
            "Unpacking libsord-0-0:amd64 (0.16.0~dfsg0-1) ...\n",
            "Selecting previously unselected package libsratom-0-0:amd64.\n",
            "Preparing to unpack .../39-libsratom-0-0_0.6.0~dfsg0-1_amd64.deb ...\n",
            "Unpacking libsratom-0-0:amd64 (0.6.0~dfsg0-1) ...\n",
            "Selecting previously unselected package liblilv-0-0.\n",
            "Preparing to unpack .../40-liblilv-0-0_0.24.2~dfsg0-1_amd64.deb ...\n",
            "Unpacking liblilv-0-0 (0.24.2~dfsg0-1) ...\n",
            "Selecting previously unselected package libmjpegutils-2.1-0.\n",
            "Preparing to unpack .../41-libmjpegutils-2.1-0_1%3a2.1.0+debian-5_amd64.deb ...\n",
            "Unpacking libmjpegutils-2.1-0 (1:2.1.0+debian-5) ...\n",
            "Selecting previously unselected package libmms0:amd64.\n",
            "Preparing to unpack .../42-libmms0_0.6.4-2_amd64.deb ...\n",
            "Unpacking libmms0:amd64 (0.6.4-2) ...\n",
            "Selecting previously unselected package libmodplug1:amd64.\n",
            "Preparing to unpack .../43-libmodplug1_1%3a0.8.9.0-1_amd64.deb ...\n",
            "Unpacking libmodplug1:amd64 (1:0.8.9.0-1) ...\n",
            "Selecting previously unselected package libmpcdec6:amd64.\n",
            "Preparing to unpack .../44-libmpcdec6_2%3a0.1~r495-1_amd64.deb ...\n",
            "Unpacking libmpcdec6:amd64 (2:0.1~r495-1) ...\n",
            "Selecting previously unselected package libmpeg2encpp-2.1-0.\n",
            "Preparing to unpack .../45-libmpeg2encpp-2.1-0_1%3a2.1.0+debian-5_amd64.deb ...\n",
            "Unpacking libmpeg2encpp-2.1-0 (1:2.1.0+debian-5) ...\n",
            "Selecting previously unselected package libmplex2-2.1-0.\n",
            "Preparing to unpack .../46-libmplex2-2.1-0_1%3a2.1.0+debian-5_amd64.deb ...\n",
            "Unpacking libmplex2-2.1-0 (1:2.1.0+debian-5) ...\n",
            "Selecting previously unselected package libnice10:amd64.\n",
            "Preparing to unpack .../47-libnice10_0.1.14-1_amd64.deb ...\n",
            "Unpacking libnice10:amd64 (0.1.14-1) ...\n",
            "Selecting previously unselected package libofa0:amd64.\n",
            "Preparing to unpack .../48-libofa0_0.9.3-15_amd64.deb ...\n",
            "Unpacking libofa0:amd64 (0.9.3-15) ...\n",
            "Selecting previously unselected package libsoundtouch1:amd64.\n",
            "Preparing to unpack .../49-libsoundtouch1_1.9.2-3_amd64.deb ...\n",
            "Unpacking libsoundtouch1:amd64 (1.9.2-3) ...\n",
            "Selecting previously unselected package libspandsp2:amd64.\n",
            "Preparing to unpack .../50-libspandsp2_0.0.6+dfsg-0.1_amd64.deb ...\n",
            "Unpacking libspandsp2:amd64 (0.0.6+dfsg-0.1) ...\n",
            "Selecting previously unselected package libsrtp2-1:amd64.\n",
            "Preparing to unpack .../51-libsrtp2-1_2.1.0-1_amd64.deb ...\n",
            "Unpacking libsrtp2-1:amd64 (2.1.0-1) ...\n",
            "Selecting previously unselected package libtag-extras1.\n",
            "Preparing to unpack .../52-libtag-extras1_1.0.1-3.1_amd64.deb ...\n",
            "Unpacking libtag-extras1 (1.0.1-3.1) ...\n",
            "Selecting previously unselected package libvulkan1:amd64.\n",
            "Preparing to unpack .../53-libvulkan1_1.1.126.0-2~gpu18.04.1_amd64.deb ...\n",
            "Unpacking libvulkan1:amd64 (1.1.126.0-2~gpu18.04.1) ...\n",
            "Selecting previously unselected package libwebrtc-audio-processing1:amd64.\n",
            "Preparing to unpack .../54-libwebrtc-audio-processing1_0.3-1_amd64.deb ...\n",
            "Unpacking libwebrtc-audio-processing1:amd64 (0.3-1) ...\n",
            "Selecting previously unselected package libwildmidi-config.\n",
            "Preparing to unpack .../55-libwildmidi-config_0.4.2-1_all.deb ...\n",
            "Unpacking libwildmidi-config (0.4.2-1) ...\n",
            "Selecting previously unselected package libwildmidi2:amd64.\n",
            "Preparing to unpack .../56-libwildmidi2_0.4.2-1_amd64.deb ...\n",
            "Unpacking libwildmidi2:amd64 (0.4.2-1) ...\n",
            "Selecting previously unselected package libzbar0:amd64.\n",
            "Preparing to unpack .../57-libzbar0_0.10+doc-10.1build2_amd64.deb ...\n",
            "Unpacking libzbar0:amd64 (0.10+doc-10.1build2) ...\n",
            "Selecting previously unselected package python-pip-whl.\n",
            "Preparing to unpack .../58-python-pip-whl_9.0.1-2.3~ubuntu1.18.04.5_all.deb ...\n",
            "Unpacking python-pip-whl (9.0.1-2.3~ubuntu1.18.04.5) ...\n",
            "Selecting previously unselected package python3-pip.\n",
            "Preparing to unpack .../59-python3-pip_9.0.1-2.3~ubuntu1.18.04.5_all.deb ...\n",
            "Unpacking python3-pip (9.0.1-2.3~ubuntu1.18.04.5) ...\n",
            "Selecting previously unselected package python3-pkg-resources.\n",
            "Preparing to unpack .../60-python3-pkg-resources_39.0.1-2_all.deb ...\n",
            "Unpacking python3-pkg-resources (39.0.1-2) ...\n",
            "Selecting previously unselected package python3-setuptools.\n",
            "Preparing to unpack .../61-python3-setuptools_39.0.1-2_all.deb ...\n",
            "Unpacking python3-setuptools (39.0.1-2) ...\n",
            "Selecting previously unselected package python3.6-venv.\n",
            "Preparing to unpack .../62-python3.6-venv_3.6.9-1~18.04ubuntu1.4_amd64.deb ...\n",
            "Unpacking python3.6-venv (3.6.9-1~18.04ubuntu1.4) ...\n",
            "Selecting previously unselected package python3-venv.\n",
            "Preparing to unpack .../63-python3-venv_3.6.7-1~18.04_amd64.deb ...\n",
            "Unpacking python3-venv (3.6.7-1~18.04) ...\n",
            "Selecting previously unselected package vainfo.\n",
            "Preparing to unpack .../64-vainfo_2.1.0+ds1-1_amd64.deb ...\n",
            "Unpacking vainfo (2.1.0+ds1-1) ...\n",
            "Selecting previously unselected package libdca0:amd64.\n",
            "Preparing to unpack .../65-libdca0_0.0.5-10_amd64.deb ...\n",
            "Unpacking libdca0:amd64 (0.0.5-10) ...\n",
            "Selecting previously unselected package libsbc1:amd64.\n",
            "Preparing to unpack .../66-libsbc1_1.3-2_amd64.deb ...\n",
            "Unpacking libsbc1:amd64 (1.3-2) ...\n",
            "Selecting previously unselected package gstreamer1.0-plugins-bad:amd64.\n",
            "Preparing to unpack .../67-gstreamer1.0-plugins-bad_1.14.5-0ubuntu1~18.04.1_amd64.deb ...\n",
            "Unpacking gstreamer1.0-plugins-bad:amd64 (1.14.5-0ubuntu1~18.04.1) ...\n",
            "Setting up libvulkan1:amd64 (1.1.126.0-2~gpu18.04.1) ...\n",
            "Setting up python-pip-whl (9.0.1-2.3~ubuntu1.18.04.5) ...\n",
            "Setting up libsbc1:amd64 (1.3-2) ...\n",
            "Setting up libmpeg2-4:amd64 (0.5.1-8) ...\n",
            "Setting up libfaac0:amd64 (1.29.7.7-1) ...\n",
            "Setting up libmms0:amd64 (0.6.4-2) ...\n",
            "Setting up libsidplay1v5:amd64 (1.36.59-11) ...\n",
            "Setting up libmodplug1:amd64 (1:0.8.9.0-1) ...\n",
            "Setting up libde265-0:amd64 (1.0.2-2build1) ...\n",
            "Setting up libmpcdec6:amd64 (2:0.1~r495-1) ...\n",
            "Setting up libsigsegv2:amd64 (2.12-1) ...\n",
            "Setting up libgpm2:amd64 (1.20.7-5) ...\n",
            "Setting up libcap2-bin (1:2.25-1.2) ...\n",
            "Setting up libv4lconvert0:amd64 (1.14.2-1) ...\n",
            "Setting up libwebrtc-audio-processing1:amd64 (0.3-1) ...\n",
            "Setting up libva-wayland2:amd64 (2.1.0-3) ...\n",
            "Setting up python3.6-venv (3.6.9-1~18.04ubuntu1.4) ...\n",
            "Setting up libfaad2:amd64 (2.8.8-1) ...\n",
            "Setting up libkate1:amd64 (0.4.1-7build1) ...\n",
            "Setting up vainfo (2.1.0+ds1-1) ...\n",
            "Setting up libspandsp2:amd64 (0.0.6+dfsg-0.1) ...\n",
            "Setting up m4 (1.4.18-1) ...\n",
            "Setting up python3-pkg-resources (39.0.1-2) ...\n",
            "Setting up libcdparanoia0:amd64 (3.10.2+debian-13) ...\n",
            "Setting up libvo-aacenc0:amd64 (0.1.3-1) ...\n",
            "Setting up libgssdp-1.0-3:amd64 (1.0.2-2) ...\n",
            "Setting up libwildmidi-config (0.4.2-1) ...\n",
            "Setting up liba52-0.7.4:amd64 (0.7.4-19) ...\n",
            "Setting up libmjpegutils-2.1-0 (1:2.1.0+debian-5) ...\n",
            "Setting up libvo-amrwbenc0:amd64 (0.1.3-1) ...\n",
            "Setting up libaa1:amd64 (1.4p5-44build2) ...\n",
            "Setting up python3-pip (9.0.1-2.3~ubuntu1.18.04.5) ...\n",
            "Setting up libofa0:amd64 (0.9.3-15) ...\n",
            "Setting up libvisual-0.4-0:amd64 (0.4.0-11) ...\n",
            "Setting up libopencore-amrnb0:amd64 (0.1.3-2.1) ...\n",
            "Setting up liborc-0.4-0:amd64 (1:0.4.28-1) ...\n",
            "Setting up libsrtp2-1:amd64 (2.1.0-1) ...\n",
            "Setting up libsoundtouch1:amd64 (1.9.2-3) ...\n",
            "Setting up python3-setuptools (39.0.1-2) ...\n",
            "Setting up libdca0:amd64 (0.0.5-10) ...\n",
            "Setting up libserd-0-0:amd64 (0.28.0~dfsg0-1) ...\n",
            "Setting up libopencore-amrwb0:amd64 (0.1.3-2.1) ...\n",
            "Setting up libshout3:amd64 (2.4.1-2build1) ...\n",
            "Setting up libfluidsynth1:amd64 (1.1.9-1) ...\n",
            "Setting up libmplex2-2.1-0 (1:2.1.0+debian-5) ...\n",
            "Setting up libdv4:amd64 (1.0.0-11) ...\n",
            "Setting up libtag1v5-vanilla:amd64 (1.11.1+dfsg.1-0.2build2) ...\n",
            "Setting up libdvdread4:amd64 (6.0.0-1) ...\n",
            "Setting up python3-venv (3.6.7-1~18.04) ...\n",
            "Setting up libmpeg2encpp-2.1-0 (1:2.1.0+debian-5) ...\n",
            "Setting up libtag1v5:amd64 (1.11.1+dfsg.1-0.2build2) ...\n",
            "Setting up libgstreamer1.0-0:amd64 (1.14.5-0ubuntu1~18.04.2) ...\n",
            "Setcap worked! gst-ptp-helper is not suid!\n",
            "Setting up libgupnp-1.0-4:amd64 (1.0.2-2) ...\n",
            "Setting up libv4l-0:amd64 (1.14.2-1) ...\n",
            "Setting up flex (2.6.4-6) ...\n",
            "Setting up libdvdnav4:amd64 (6.0.0-1) ...\n",
            "Setting up libsord-0-0:amd64 (0.16.0~dfsg0-1) ...\n",
            "Setting up libwildmidi2:amd64 (0.4.2-1) ...\n",
            "Setting up libgupnp-igd-1.0-4:amd64 (0.2.5-1) ...\n",
            "Setting up gstreamer1.0-tools (1.14.5-0ubuntu1~18.04.2) ...\n",
            "Setting up libnice10:amd64 (0.1.14-1) ...\n",
            "Setting up libtag-extras1 (1.0.1-3.1) ...\n",
            "Setting up libgstreamer-plugins-base1.0-0:amd64 (1.14.5-0ubuntu1~18.04.3) ...\n",
            "Setting up libsratom-0-0:amd64 (0.6.0~dfsg0-1) ...\n",
            "Setting up gstreamer1.0-plugins-base:amd64 (1.14.5-0ubuntu1~18.04.3) ...\n",
            "Setting up liblilv-0-0 (0.24.2~dfsg0-1) ...\n",
            "Setting up libzbar0:amd64 (0.10+doc-10.1build2) ...\n",
            "Setting up libgstreamer-gl1.0-0:amd64 (1.14.5-0ubuntu1~18.04.3) ...\n",
            "Setting up libgstreamer-plugins-bad1.0-0:amd64 (1.14.5-0ubuntu1~18.04.1) ...\n",
            "Setting up gstreamer1.0-vaapi:amd64 (1.14.5-0ubuntu1~ubuntu18.04.1) ...\n",
            "Setting up gstreamer1.0-plugins-ugly:amd64 (1.14.5-0ubuntu1~18.04.1) ...\n",
            "Setting up libgstreamer-plugins-good1.0-0:amd64 (1.14.5-0ubuntu1~18.04.2) ...\n",
            "Setting up gstreamer1.0-alsa:amd64 (1.14.5-0ubuntu1~18.04.3) ...\n",
            "Setting up gstreamer1.0-plugins-bad:amd64 (1.14.5-0ubuntu1~18.04.1) ...\n",
            "Setting up gstreamer1.0-plugins-good:amd64 (1.14.5-0ubuntu1~18.04.2) ...\n",
            "Processing triggers for man-db (2.8.3-2ubuntu0.1) ...\n",
            "Processing triggers for libc-bin (2.27-3ubuntu1.3) ...\n",
            "/sbin/ldconfig.real: /usr/local/lib/python3.7/dist-packages/ideep4py/lib/libmkldnn.so.0 is not a symbolic link\n",
            "\n"
          ]
        }
      ]
    },
    {
      "cell_type": "markdown",
      "metadata": {
        "id": "OHhbomDMNipJ"
      },
      "source": [
        "### 2.4 Setting up the JSON file"
      ]
    },
    {
      "cell_type": "code",
      "metadata": {
        "colab": {
          "base_uri": "https://localhost:8080/"
        },
        "id": "rjz0Wv8HNtu9",
        "outputId": "cf0ad3fe-4d41-4b31-e912-a51f24a15496"
      },
      "source": [
        "%cd /content/"
      ],
      "execution_count": null,
      "outputs": [
        {
          "output_type": "stream",
          "name": "stdout",
          "text": [
            "/content\n"
          ]
        }
      ]
    },
    {
      "cell_type": "markdown",
      "metadata": {
        "id": "eWSreuZadO7J"
      },
      "source": [
        "We copy the JSON file required for the conversion from the yolo2openvino/json directory. "
      ]
    },
    {
      "cell_type": "code",
      "metadata": {
        "id": "kvBe0-w9JSCg"
      },
      "source": [
        "yolo_version=3"
      ],
      "execution_count": null,
      "outputs": []
    },
    {
      "cell_type": "code",
      "metadata": {
        "id": "xVdovsBvdC0G"
      },
      "source": [
        "if yolo_version == 3:\n",
        "  !cp /content/yolo2openvino/json/yolo_v3_tiny.json /content/yolo.json\n",
        "else:\n",
        "  !cp /content/yolo2openvino/json/yolo_v4_tiny_custom.json /content/yolo.json"
      ],
      "execution_count": null,
      "outputs": []
    },
    {
      "cell_type": "markdown",
      "metadata": {
        "id": "Acs8gCy6d38J"
      },
      "source": [
        "<font color=\"red\">**IMPORTANT: You have to correctly set up the contents of this file**</font>. If you have not changed anchors and masks, then you only have to change the `classes`. Make sure the following are correct:\n",
        "\n",
        "* *id* should be left as it is whether we used YoloV3 or YoloV4 version,\n",
        "* *classes* must match the number of the classes your trained Yolo can detect,\n",
        "* *anchors* must be changed if you used different anchors,\n",
        "* we leave *coords* as they are,\n",
        "* *num* must be set to *6* if you used default YoloV3-tiny or YoloV4-tiny configuration,\n",
        "* *mask* must be set to `[[3, 4, 5], [1, 2, 3]]` for YoloV4-tiny and `[[3, 4, 5], [0, 1, 2]]` **for YoloV3-tiny** and **for YoloV4-tiny-custom** (you can find this in the *.cfg* file under [yolo] layers - if you have not changed the code, by default YoloV3-tiny and YoloV4-tiny-custom configs are used in this tutorial),\n",
        "* *entry points* must be \n",
        "\n",
        " `[\"detector/yolo-v4-tiny/Reshape\", \"detector/yolo-v4-tiny/Reshape_4\"]` for YoloV4-tiny, and \n",
        "\n",
        " `[\"detector/yolo-v3-tiny/Reshape\", \"detector/yolo-v3-tiny/Reshape_4\"]` for YoloV3-tiny!\n",
        "\n",
        "These should be set automatically in the next cell, but please ensure the values are correct."
      ]
    },
    {
      "cell_type": "code",
      "metadata": {
        "id": "5s5zZnMrK-l3"
      },
      "source": [
        "labels = ['QR_CODE']"
      ],
      "execution_count": null,
      "outputs": []
    },
    {
      "cell_type": "code",
      "metadata": {
        "colab": {
          "base_uri": "https://localhost:8080/"
        },
        "id": "WnUMnsjENw3l",
        "outputId": "1c59814c-19a9-487c-f370-118fd551ce19"
      },
      "source": [
        "import re\n",
        "tiny_yolo_json = '/content/yolo.json'\n",
        "with open(tiny_yolo_json) as f:\n",
        "    s = f.read()\n",
        "s = re.sub('\"classes\": \\d*','\"classes\": ' + str(len(labels)),s)\n",
        "with open(tiny_yolo_json, 'w') as f:\n",
        "  f.write(s)\n",
        "#Check that the number of classes is correct (same as the number of your training labels)|\n",
        "!cat /content/yolo.json "
      ],
      "execution_count": null,
      "outputs": [
        {
          "output_type": "stream",
          "name": "stdout",
          "text": [
            "[\n",
            "  {\n",
            "    \"id\": \"TFYOLOV3\",\n",
            "    \"match_kind\": \"general\",\n",
            "    \"custom_attributes\": {\n",
            "      \"classes\": 1,\n",
            "      \"anchors\": [10, 14, 23, 27, 37, 58, 81, 82, 135, 169, 344, 319],\n",
            "      \"coords\": 4,\n",
            "      \"num\": 6,\n",
            "      \"masks\": [[3, 4, 5], [0, 1, 2]],\n",
            "      \"entry_points\": [\"detector/yolo-v3-tiny/Reshape\", \"detector/yolo-v3-tiny/Reshape_4\"]\n",
            "    }\n",
            "  }\n",
            "]"
          ]
        }
      ]
    },
    {
      "cell_type": "markdown",
      "metadata": {
        "id": "lBdXsdyUf1Z3"
      },
      "source": [
        "### 2.5 Conversion to OpenVINO IR\n",
        "\n",
        "We can now proceed with the conversion to OpenVINO IR."
      ]
    },
    {
      "cell_type": "code",
      "metadata": {
        "id": "PuJucjy_-Y9Q",
        "colab": {
          "base_uri": "https://localhost:8080/",
          "height": 36
        },
        "outputId": "4e1b4ddf-d2bf-4ccb-d91c-b10c9ea9408b"
      },
      "source": [
        "input_model = f\"/content/yolo2openvino/qrcode-yolov3-tiny.pb\"\n",
        "input_model"
      ],
      "execution_count": null,
      "outputs": [
        {
          "output_type": "execute_result",
          "data": {
            "application/vnd.google.colaboratory.intrinsic+json": {
              "type": "string"
            },
            "text/plain": [
              "'/content/yolo2openvino/qrcode-yolov3-tiny.pb'"
            ]
          },
          "metadata": {},
          "execution_count": 29
        }
      ]
    },
    {
      "cell_type": "code",
      "metadata": {
        "colab": {
          "base_uri": "https://localhost:8080/"
        },
        "id": "KrYf4UplM52e",
        "outputId": "c4155971-fcc0-4ab9-b194-cc66c07f1d81"
      },
      "source": [
        "# Get openvino installation path\n",
        "openvino = !find /opt/intel -type d -name openvino*\n",
        "!python -mpip install -r {openvino[0]}/deployment_tools/model_optimizer/requirements.txt"
      ],
      "execution_count": null,
      "outputs": [
        {
          "output_type": "stream",
          "name": "stdout",
          "text": [
            "Ignoring tensorflow: markers 'python_version >= \"3.8\"' don't match your environment\n",
            "Requirement already satisfied: tensorflow<2.0,>=1.15.2 in /usr/local/lib/python3.7/dist-packages (from -r /opt/intel/openvino_2021.3.394/deployment_tools/model_optimizer/requirements.txt (line 1)) (1.15.5)\n",
            "Requirement already satisfied: mxnet<=1.7.0,>=1.0.0 in /usr/local/lib/python3.7/dist-packages (from -r /opt/intel/openvino_2021.3.394/deployment_tools/model_optimizer/requirements.txt (line 3)) (1.6.0)\n",
            "Requirement already satisfied: networkx>=1.11 in /usr/local/lib/python3.7/dist-packages (from -r /opt/intel/openvino_2021.3.394/deployment_tools/model_optimizer/requirements.txt (line 4)) (2.6.3)\n",
            "Requirement already satisfied: numpy<1.19.0,>=1.14.0 in /usr/local/lib/python3.7/dist-packages (from -r /opt/intel/openvino_2021.3.394/deployment_tools/model_optimizer/requirements.txt (line 5)) (1.18.5)\n",
            "Requirement already satisfied: protobuf>=3.6.1 in /usr/local/lib/python3.7/dist-packages (from -r /opt/intel/openvino_2021.3.394/deployment_tools/model_optimizer/requirements.txt (line 6)) (3.17.3)\n",
            "Requirement already satisfied: onnx>=1.1.2 in /usr/local/lib/python3.7/dist-packages (from -r /opt/intel/openvino_2021.3.394/deployment_tools/model_optimizer/requirements.txt (line 7)) (1.10.2)\n",
            "Requirement already satisfied: test-generator==0.1.1 in /usr/local/lib/python3.7/dist-packages (from -r /opt/intel/openvino_2021.3.394/deployment_tools/model_optimizer/requirements.txt (line 8)) (0.1.1)\n",
            "Requirement already satisfied: defusedxml>=0.5.0 in /usr/local/lib/python3.7/dist-packages (from -r /opt/intel/openvino_2021.3.394/deployment_tools/model_optimizer/requirements.txt (line 9)) (0.7.1)\n",
            "Requirement already satisfied: urllib3>=1.25.9 in /usr/local/lib/python3.7/dist-packages (from -r /opt/intel/openvino_2021.3.394/deployment_tools/model_optimizer/requirements.txt (line 10)) (1.25.11)\n",
            "Requirement already satisfied: requests>=2.20.0 in /usr/local/lib/python3.7/dist-packages (from -r /opt/intel/openvino_2021.3.394/deployment_tools/model_optimizer/requirements.txt (line 11)) (2.23.0)\n",
            "Requirement already satisfied: six in /usr/local/lib/python3.7/dist-packages (from test-generator==0.1.1->-r /opt/intel/openvino_2021.3.394/deployment_tools/model_optimizer/requirements.txt (line 8)) (1.15.0)\n",
            "Requirement already satisfied: absl-py>=0.7.0 in /usr/local/lib/python3.7/dist-packages (from tensorflow<2.0,>=1.15.2->-r /opt/intel/openvino_2021.3.394/deployment_tools/model_optimizer/requirements.txt (line 1)) (0.12.0)\n",
            "Requirement already satisfied: gast==0.2.2 in /usr/local/lib/python3.7/dist-packages (from tensorflow<2.0,>=1.15.2->-r /opt/intel/openvino_2021.3.394/deployment_tools/model_optimizer/requirements.txt (line 1)) (0.2.2)\n",
            "Requirement already satisfied: opt-einsum>=2.3.2 in /usr/local/lib/python3.7/dist-packages (from tensorflow<2.0,>=1.15.2->-r /opt/intel/openvino_2021.3.394/deployment_tools/model_optimizer/requirements.txt (line 1)) (3.3.0)\n",
            "Requirement already satisfied: grpcio>=1.8.6 in /usr/local/lib/python3.7/dist-packages (from tensorflow<2.0,>=1.15.2->-r /opt/intel/openvino_2021.3.394/deployment_tools/model_optimizer/requirements.txt (line 1)) (1.42.0)\n",
            "Requirement already satisfied: tensorboard<1.16.0,>=1.15.0 in /usr/local/lib/python3.7/dist-packages (from tensorflow<2.0,>=1.15.2->-r /opt/intel/openvino_2021.3.394/deployment_tools/model_optimizer/requirements.txt (line 1)) (1.15.0)\n",
            "Requirement already satisfied: wrapt>=1.11.1 in /usr/local/lib/python3.7/dist-packages (from tensorflow<2.0,>=1.15.2->-r /opt/intel/openvino_2021.3.394/deployment_tools/model_optimizer/requirements.txt (line 1)) (1.13.3)\n",
            "Requirement already satisfied: keras-applications>=1.0.8 in /tensorflow-1.15.2/python3.7 (from tensorflow<2.0,>=1.15.2->-r /opt/intel/openvino_2021.3.394/deployment_tools/model_optimizer/requirements.txt (line 1)) (1.0.8)\n",
            "Requirement already satisfied: keras-preprocessing>=1.0.5 in /usr/local/lib/python3.7/dist-packages (from tensorflow<2.0,>=1.15.2->-r /opt/intel/openvino_2021.3.394/deployment_tools/model_optimizer/requirements.txt (line 1)) (1.1.2)\n",
            "Requirement already satisfied: termcolor>=1.1.0 in /usr/local/lib/python3.7/dist-packages (from tensorflow<2.0,>=1.15.2->-r /opt/intel/openvino_2021.3.394/deployment_tools/model_optimizer/requirements.txt (line 1)) (1.1.0)\n",
            "Requirement already satisfied: h5py<=2.10.0 in /usr/local/lib/python3.7/dist-packages (from tensorflow<2.0,>=1.15.2->-r /opt/intel/openvino_2021.3.394/deployment_tools/model_optimizer/requirements.txt (line 1)) (2.10.0)\n",
            "Requirement already satisfied: wheel>=0.26 in /usr/local/lib/python3.7/dist-packages (from tensorflow<2.0,>=1.15.2->-r /opt/intel/openvino_2021.3.394/deployment_tools/model_optimizer/requirements.txt (line 1)) (0.37.0)\n",
            "Requirement already satisfied: google-pasta>=0.1.6 in /usr/local/lib/python3.7/dist-packages (from tensorflow<2.0,>=1.15.2->-r /opt/intel/openvino_2021.3.394/deployment_tools/model_optimizer/requirements.txt (line 1)) (0.2.0)\n",
            "Requirement already satisfied: tensorflow-estimator==1.15.1 in /usr/local/lib/python3.7/dist-packages (from tensorflow<2.0,>=1.15.2->-r /opt/intel/openvino_2021.3.394/deployment_tools/model_optimizer/requirements.txt (line 1)) (1.15.1)\n",
            "Requirement already satisfied: astor>=0.6.0 in /usr/local/lib/python3.7/dist-packages (from tensorflow<2.0,>=1.15.2->-r /opt/intel/openvino_2021.3.394/deployment_tools/model_optimizer/requirements.txt (line 1)) (0.8.1)\n",
            "Requirement already satisfied: graphviz<0.9.0,>=0.8.1 in /usr/local/lib/python3.7/dist-packages (from mxnet<=1.7.0,>=1.0.0->-r /opt/intel/openvino_2021.3.394/deployment_tools/model_optimizer/requirements.txt (line 3)) (0.8.4)\n",
            "Requirement already satisfied: typing-extensions>=3.6.2.1 in /usr/local/lib/python3.7/dist-packages (from onnx>=1.1.2->-r /opt/intel/openvino_2021.3.394/deployment_tools/model_optimizer/requirements.txt (line 7)) (3.10.0.2)\n",
            "Requirement already satisfied: certifi>=2017.4.17 in /usr/local/lib/python3.7/dist-packages (from requests>=2.20.0->-r /opt/intel/openvino_2021.3.394/deployment_tools/model_optimizer/requirements.txt (line 11)) (2021.10.8)\n",
            "Requirement already satisfied: idna<3,>=2.5 in /usr/local/lib/python3.7/dist-packages (from requests>=2.20.0->-r /opt/intel/openvino_2021.3.394/deployment_tools/model_optimizer/requirements.txt (line 11)) (2.10)\n",
            "Requirement already satisfied: chardet<4,>=3.0.2 in /usr/local/lib/python3.7/dist-packages (from requests>=2.20.0->-r /opt/intel/openvino_2021.3.394/deployment_tools/model_optimizer/requirements.txt (line 11)) (3.0.4)\n",
            "Requirement already satisfied: werkzeug>=0.11.15 in /usr/local/lib/python3.7/dist-packages (from tensorboard<1.16.0,>=1.15.0->tensorflow<2.0,>=1.15.2->-r /opt/intel/openvino_2021.3.394/deployment_tools/model_optimizer/requirements.txt (line 1)) (1.0.1)\n",
            "Requirement already satisfied: setuptools>=41.0.0 in /usr/local/lib/python3.7/dist-packages (from tensorboard<1.16.0,>=1.15.0->tensorflow<2.0,>=1.15.2->-r /opt/intel/openvino_2021.3.394/deployment_tools/model_optimizer/requirements.txt (line 1)) (57.4.0)\n",
            "Requirement already satisfied: markdown>=2.6.8 in /usr/local/lib/python3.7/dist-packages (from tensorboard<1.16.0,>=1.15.0->tensorflow<2.0,>=1.15.2->-r /opt/intel/openvino_2021.3.394/deployment_tools/model_optimizer/requirements.txt (line 1)) (3.3.6)\n",
            "Requirement already satisfied: importlib-metadata>=4.4 in /usr/local/lib/python3.7/dist-packages (from markdown>=2.6.8->tensorboard<1.16.0,>=1.15.0->tensorflow<2.0,>=1.15.2->-r /opt/intel/openvino_2021.3.394/deployment_tools/model_optimizer/requirements.txt (line 1)) (4.8.2)\n",
            "Requirement already satisfied: zipp>=0.5 in /usr/local/lib/python3.7/dist-packages (from importlib-metadata>=4.4->markdown>=2.6.8->tensorboard<1.16.0,>=1.15.0->tensorflow<2.0,>=1.15.2->-r /opt/intel/openvino_2021.3.394/deployment_tools/model_optimizer/requirements.txt (line 1)) (3.6.0)\n"
          ]
        }
      ]
    },
    {
      "cell_type": "code",
      "metadata": {
        "colab": {
          "base_uri": "https://localhost:8080/"
        },
        "id": "XVyt-c7AN-j6",
        "outputId": "50df680b-143f-428d-be02-b65036a4856d"
      },
      "source": [
        "!python {openvino[0]}/deployment_tools/model_optimizer/mo.py \\\n",
        "--input_model $input_model \\\n",
        "--tensorflow_use_custom_operations_config /content/yolo.json \\\n",
        "--batch 1 \\\n",
        "--data_type FP16 \\\n",
        "--reverse_input_channel \\\n",
        "--model_name qrcode-yolov3-tiny \\\n",
        "--output_dir /content/output/"
      ],
      "execution_count": null,
      "outputs": [
        {
          "output_type": "stream",
          "name": "stdout",
          "text": [
            "[ WARNING ]  Use of deprecated cli option --tensorflow_use_custom_operations_config detected. Option use in the following releases will be fatal. Please use --transformations_config cli option instead\n",
            "Model Optimizer arguments:\n",
            "Common parameters:\n",
            "\t- Path to the Input Model: \t/content/yolo2openvino/qrcode-yolov3-tiny.pb\n",
            "\t- Path for generated IR: \t/content/output/\n",
            "\t- IR output name: \tqrcode-yolov3-tiny\n",
            "\t- Log level: \tERROR\n",
            "\t- Batch: \t1\n",
            "\t- Input layers: \tNot specified, inherited from the model\n",
            "\t- Output layers: \tNot specified, inherited from the model\n",
            "\t- Input shapes: \tNot specified, inherited from the model\n",
            "\t- Mean values: \tNot specified\n",
            "\t- Scale values: \tNot specified\n",
            "\t- Scale factor: \tNot specified\n",
            "\t- Precision of IR: \tFP16\n",
            "\t- Enable fusing: \tTrue\n",
            "\t- Enable grouped convolutions fusing: \tTrue\n",
            "\t- Move mean values to preprocess section: \tNone\n",
            "\t- Reverse input channels: \tTrue\n",
            "TensorFlow specific parameters:\n",
            "\t- Input model in text protobuf format: \tFalse\n",
            "\t- Path to model dump for TensorBoard: \tNone\n",
            "\t- List of shared libraries with TensorFlow custom layers implementation: \tNone\n",
            "\t- Update the configuration file with input/output node names: \tNone\n",
            "\t- Use configuration file used to generate the model with Object Detection API: \tNone\n",
            "\t- Use the config file: \t/content/yolo.json\n",
            "[ WARNING ] Failed to import Inference Engine Python API in: /opt/intel/openvino_2021.3.394/python/python3.7\n",
            "[ WARNING ] libinference_engine.so: cannot open shared object file: No such file or directory\n",
            "\t- Inference Engine found in: \t/opt/intel/openvino_2021.3.394/python/python3.7/openvino\n",
            "Inference Engine version: \t2.1.2021.3.0-2787-60059f2c755-releases/2021/3\n",
            "Model Optimizer version: \t    2021.3.0-2787-60059f2c755-releases/2021/3\n",
            "[ SUCCESS ] Generated IR version 10 model.\n",
            "[ SUCCESS ] XML file: /content/output/qrcode-yolov3-tiny.xml\n",
            "[ SUCCESS ] BIN file: /content/output/qrcode-yolov3-tiny.bin\n",
            "[ SUCCESS ] Total execution time: 10.34 seconds. \n",
            "[ SUCCESS ] Memory consumed: 507 MB. \n",
            "It's been a while, check for a new version of Intel(R) Distribution of OpenVINO(TM) toolkit here https://software.intel.com/content/www/us/en/develop/tools/openvino-toolkit/download.html?cid=other&source=prod&campid=ww_2021_bu_IOTG_OpenVINO-2021-3&content=upg_all&medium=organic or on the GitHub*\n"
          ]
        }
      ]
    },
    {
      "cell_type": "markdown",
      "metadata": {
        "id": "3UrmGS7JOWWR"
      },
      "source": [
        "### 2.6 Use blobconverter to convert to blob that can be run on OAK devices"
      ]
    },
    {
      "cell_type": "markdown",
      "metadata": {
        "id": "G5Xr4ysagp9d"
      },
      "source": [
        "Set up the paths."
      ]
    },
    {
      "cell_type": "code",
      "metadata": {
        "id": "Kh4TxYx3OWCd"
      },
      "source": [
        "# Choose the directory where you would like to save the blob.\n",
        "blob_dir = \"/content/output/\"\n",
        "\n",
        "binfile = f\"/content/output/{output_name}.bin\"\n",
        "xmlfile = f\"/content/output/{output_name}.xml\""
      ],
      "execution_count": null,
      "outputs": []
    },
    {
      "cell_type": "markdown",
      "metadata": {
        "id": "OXZtQV8ggsJj"
      },
      "source": [
        "Install latest version of blobconverter."
      ]
    },
    {
      "cell_type": "code",
      "metadata": {
        "id": "i-SwH-y5guVw",
        "colab": {
          "base_uri": "https://localhost:8080/"
        },
        "outputId": "17741474-e6f4-4903-fb4f-a7fb7a1a391b"
      },
      "source": [
        "!python -m pip install blobconverter==1.2.7"
      ],
      "execution_count": null,
      "outputs": [
        {
          "output_type": "stream",
          "name": "stdout",
          "text": [
            "Collecting blobconverter==1.2.7\n",
            "  Downloading blobconverter-1.2.7-py3-none-any.whl (10 kB)\n",
            "Requirement already satisfied: requests in /usr/local/lib/python3.7/dist-packages (from blobconverter==1.2.7) (2.23.0)\n",
            "Requirement already satisfied: PyYAML in /usr/local/lib/python3.7/dist-packages (from blobconverter==1.2.7) (3.13)\n",
            "Collecting boto3==1.17.39\n",
            "  Downloading boto3-1.17.39-py2.py3-none-any.whl (131 kB)\n",
            "\u001b[K     |████████████████████████████████| 131 kB 4.4 MB/s \n",
            "\u001b[?25hCollecting botocore<1.21.0,>=1.20.39\n",
            "  Downloading botocore-1.20.112-py2.py3-none-any.whl (7.7 MB)\n",
            "\u001b[K     |████████████████████████████████| 7.7 MB 35.1 MB/s \n",
            "\u001b[?25hCollecting jmespath<1.0.0,>=0.7.1\n",
            "  Downloading jmespath-0.10.0-py2.py3-none-any.whl (24 kB)\n",
            "Collecting s3transfer<0.4.0,>=0.3.0\n",
            "  Downloading s3transfer-0.3.7-py2.py3-none-any.whl (73 kB)\n",
            "\u001b[K     |████████████████████████████████| 73 kB 1.9 MB/s \n",
            "\u001b[?25hRequirement already satisfied: python-dateutil<3.0.0,>=2.1 in /usr/local/lib/python3.7/dist-packages (from botocore<1.21.0,>=1.20.39->boto3==1.17.39->blobconverter==1.2.7) (2.8.2)\n",
            "Requirement already satisfied: urllib3<1.27,>=1.25.4 in /usr/local/lib/python3.7/dist-packages (from botocore<1.21.0,>=1.20.39->boto3==1.17.39->blobconverter==1.2.7) (1.25.11)\n",
            "Requirement already satisfied: six>=1.5 in /usr/local/lib/python3.7/dist-packages (from python-dateutil<3.0.0,>=2.1->botocore<1.21.0,>=1.20.39->boto3==1.17.39->blobconverter==1.2.7) (1.15.0)\n",
            "Requirement already satisfied: chardet<4,>=3.0.2 in /usr/local/lib/python3.7/dist-packages (from requests->blobconverter==1.2.7) (3.0.4)\n",
            "Requirement already satisfied: certifi>=2017.4.17 in /usr/local/lib/python3.7/dist-packages (from requests->blobconverter==1.2.7) (2021.10.8)\n",
            "Requirement already satisfied: idna<3,>=2.5 in /usr/local/lib/python3.7/dist-packages (from requests->blobconverter==1.2.7) (2.10)\n",
            "Installing collected packages: jmespath, botocore, s3transfer, boto3, blobconverter\n",
            "Successfully installed blobconverter-1.2.7 boto3-1.17.39 botocore-1.20.112 jmespath-0.10.0 s3transfer-0.3.7\n"
          ]
        }
      ]
    },
    {
      "cell_type": "markdown",
      "metadata": {
        "id": "VZUarolog4GG"
      },
      "source": [
        "Convert the model to blob and download the file."
      ]
    },
    {
      "cell_type": "code",
      "metadata": {
        "colab": {
          "base_uri": "https://localhost:8080/",
          "height": 72
        },
        "id": "rwSrpNuEOvzD",
        "outputId": "5abb3f04-29b8-404d-d877-ae1d63b13de0"
      },
      "source": [
        "import blobconverter\n",
        "blob_path = blobconverter.from_openvino(\n",
        "    xml=xmlfile,\n",
        "    bin=binfile,\n",
        "    data_type=\"FP16\",\n",
        "    shaves=10,\n",
        "    version=\"2021.3\",\n",
        "    use_cache=False\n",
        ")\n",
        "from google.colab import files\n",
        "files.download(blob_path)"
      ],
      "execution_count": null,
      "outputs": [
        {
          "output_type": "stream",
          "name": "stdout",
          "text": [
            "Downloading /root/.cache/blobconverter/qrcode-yolov3-tiny_openvino_2021.3_10shave.blob...\n",
            "[==================================================]\n",
            "Done\n"
          ]
        },
        {
          "output_type": "display_data",
          "data": {
            "application/javascript": [
              "\n",
              "    async function download(id, filename, size) {\n",
              "      if (!google.colab.kernel.accessAllowed) {\n",
              "        return;\n",
              "      }\n",
              "      const div = document.createElement('div');\n",
              "      const label = document.createElement('label');\n",
              "      label.textContent = `Downloading \"${filename}\": `;\n",
              "      div.appendChild(label);\n",
              "      const progress = document.createElement('progress');\n",
              "      progress.max = size;\n",
              "      div.appendChild(progress);\n",
              "      document.body.appendChild(div);\n",
              "\n",
              "      const buffers = [];\n",
              "      let downloaded = 0;\n",
              "\n",
              "      const channel = await google.colab.kernel.comms.open(id);\n",
              "      // Send a message to notify the kernel that we're ready.\n",
              "      channel.send({})\n",
              "\n",
              "      for await (const message of channel.messages) {\n",
              "        // Send a message to notify the kernel that we're ready.\n",
              "        channel.send({})\n",
              "        if (message.buffers) {\n",
              "          for (const buffer of message.buffers) {\n",
              "            buffers.push(buffer);\n",
              "            downloaded += buffer.byteLength;\n",
              "            progress.value = downloaded;\n",
              "          }\n",
              "        }\n",
              "      }\n",
              "      const blob = new Blob(buffers, {type: 'application/binary'});\n",
              "      const a = document.createElement('a');\n",
              "      a.href = window.URL.createObjectURL(blob);\n",
              "      a.download = filename;\n",
              "      div.appendChild(a);\n",
              "      a.click();\n",
              "      div.remove();\n",
              "    }\n",
              "  "
            ],
            "text/plain": [
              "<IPython.core.display.Javascript object>"
            ]
          },
          "metadata": {}
        },
        {
          "output_type": "display_data",
          "data": {
            "application/javascript": [
              "download(\"download_11f93f43-f705-4e11-9ee0-4c5328621689\", \"qrcode-yolov3-tiny_openvino_2021.3_10shave.blob\", 17390656)"
            ],
            "text/plain": [
              "<IPython.core.display.Javascript object>"
            ]
          },
          "metadata": {}
        }
      ]
    },
    {
      "cell_type": "markdown",
      "metadata": {
        "id": "9JVJ0buHgv2N"
      },
      "source": [
        "Download the OpenVINO IR files."
      ]
    },
    {
      "cell_type": "code",
      "metadata": {
        "colab": {
          "base_uri": "https://localhost:8080/",
          "height": 108
        },
        "id": "zRcO_qAIPR4J",
        "outputId": "8a1d1c7b-a149-4339-df08-708e6fcb72c8"
      },
      "source": [
        "# Name the archive as you see fit\n",
        "!tar czvf yolo_tiny_car.tar.gz /content/output\n",
        "# Save the archive to the gdrive\n",
        "from google.colab import files\n",
        "files.download(\"yolo_tiny_car.tar.gz\")"
      ],
      "execution_count": null,
      "outputs": [
        {
          "output_type": "stream",
          "name": "stdout",
          "text": [
            "tar: Removing leading `/' from member names\n",
            "/content/output/\n",
            "/content/output/qrcode-yolov3-tiny.xml\n",
            "/content/output/qrcode-yolov3-tiny.mapping\n",
            "/content/output/qrcode-yolov3-tiny.bin\n"
          ]
        },
        {
          "output_type": "display_data",
          "data": {
            "application/javascript": [
              "\n",
              "    async function download(id, filename, size) {\n",
              "      if (!google.colab.kernel.accessAllowed) {\n",
              "        return;\n",
              "      }\n",
              "      const div = document.createElement('div');\n",
              "      const label = document.createElement('label');\n",
              "      label.textContent = `Downloading \"${filename}\": `;\n",
              "      div.appendChild(label);\n",
              "      const progress = document.createElement('progress');\n",
              "      progress.max = size;\n",
              "      div.appendChild(progress);\n",
              "      document.body.appendChild(div);\n",
              "\n",
              "      const buffers = [];\n",
              "      let downloaded = 0;\n",
              "\n",
              "      const channel = await google.colab.kernel.comms.open(id);\n",
              "      // Send a message to notify the kernel that we're ready.\n",
              "      channel.send({})\n",
              "\n",
              "      for await (const message of channel.messages) {\n",
              "        // Send a message to notify the kernel that we're ready.\n",
              "        channel.send({})\n",
              "        if (message.buffers) {\n",
              "          for (const buffer of message.buffers) {\n",
              "            buffers.push(buffer);\n",
              "            downloaded += buffer.byteLength;\n",
              "            progress.value = downloaded;\n",
              "          }\n",
              "        }\n",
              "      }\n",
              "      const blob = new Blob(buffers, {type: 'application/binary'});\n",
              "      const a = document.createElement('a');\n",
              "      a.href = window.URL.createObjectURL(blob);\n",
              "      a.download = filename;\n",
              "      div.appendChild(a);\n",
              "      a.click();\n",
              "      div.remove();\n",
              "    }\n",
              "  "
            ],
            "text/plain": [
              "<IPython.core.display.Javascript object>"
            ]
          },
          "metadata": {}
        },
        {
          "output_type": "display_data",
          "data": {
            "application/javascript": [
              "download(\"download_887e6eaf-c41e-4e2f-b63e-eff402c75fad\", \"yolo_tiny_car.tar.gz\", 16145834)"
            ],
            "text/plain": [
              "<IPython.core.display.Javascript object>"
            ]
          },
          "metadata": {}
        }
      ]
    },
    {
      "cell_type": "markdown",
      "metadata": {
        "id": "LINRTG_YAY63"
      },
      "source": [
        "## Next steps\n",
        "\n",
        "For more information on next steps, you can check out our [documentation](https://docs.luxonis.com/projects/api/en/latest/samples/Yolo/tiny_yolo/).\n",
        "\n",
        "* setNumClasses - number of YOLO classes *(1 in our case)*, \n",
        "* setCoordinateSize - size of coordinates *(4 by default)*,\n",
        "* setAnchors - yolo anchors *(located in [yolo] layer in CFG)*,\n",
        "* setIouThreshold - intersection over union threshold,\n",
        "* setConfidenceThreshold - confidence threshold above which objects are detected,\n",
        "* setAnchorMasks - set the anchor masks as desribed in the next section.\n",
        "\n",
        "#### Anchor masks\n",
        "\n",
        "There are 2 (or 3 for non-tiny Yolos) [yolo] layers in Yolo architecture, which you can also find in the config. The first corresponds to the larger objects, while the second corresponds to the smaller objects. This corresponds with masks, which tell model which anchors to use. Mask *3,4,5* will tell the model to use 4th, 5th, and 6th anchor for example. You will find layers for bigger objects higher in the CFG.\n",
        "\n",
        "When setting up the masks in the *YoloDetectionNetwork*, you also have to change the number in `side`. You have to change it as follows:\n",
        "`side32` to `sideX` and `side16` to `sideY`, where `X = width/16` and `Y = width/32`.\n",
        "\n",
        "If you are using non-tiny Yolo model, then you should have 3 [yolo] layers, and you should have `sideX`, `sideY`, and `sideZ`, where `X = width/8` and `Y = width/16`, and `Z = width/32`.\n"
      ]
    },
    {
      "cell_type": "code",
      "source": [
        ""
      ],
      "metadata": {
        "id": "mC2-YdSWKj1w"
      },
      "execution_count": null,
      "outputs": []
    }
  ]
}